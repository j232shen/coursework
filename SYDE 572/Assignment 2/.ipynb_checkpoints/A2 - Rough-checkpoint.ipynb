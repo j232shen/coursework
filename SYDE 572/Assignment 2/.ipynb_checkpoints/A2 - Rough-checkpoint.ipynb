{
 "cells": [
  {
   "cell_type": "markdown",
   "id": "0926f609",
   "metadata": {},
   "source": [
    "### Exercise 1: MMD Classifier\n",
    "Question 1"
   ]
  },
  {
   "cell_type": "code",
   "execution_count": 1,
   "id": "8af92042",
   "metadata": {},
   "outputs": [],
   "source": [
    "import numpy as np\n",
    "\n",
    "class category:\n",
    "    def __init__(self, mean, cov):\n",
    "        self.mean = mean\n",
    "        self.cov = cov\n",
    "        self.samples = None\n",
    "        self.sample_mean = None\n",
    "        self.sample_cov = None\n",
    "        self.eval = None\n",
    "        self.evec = None\n",
    "        self.cov_inverse = None\n",
    "        self.det_cov = None\n",
    "        \n",
    "    def generate_samples(self, N):\n",
    "        self.samples = np.random.multivariate_normal(self.mean, self.cov, N)\n",
    "        \n",
    "    def add_noise(self, mean, cov):\n",
    "        for idx, _ in enumerate(self.samples):\n",
    "            noise = np.random.multivariate_normal(mean, cov, 1)\n",
    "            self.samples[idx] = self.samples[idx] + noise\n",
    "            \n",
    "    def compute_smean(self):\n",
    "        # sample mean\n",
    "        self.sample_mean = np.array([np.mean(self.samples[:,0]), np.mean(self.samples[:,1])])\n",
    "        \n",
    "    def compute_scov(self):\n",
    "        # sample covariance\n",
    "        self.sample_cov = np.cov(self.samples, rowvar=False)\n",
    "        \n",
    "    def compute_epairs(self):  \n",
    "        self.eval, self.evec = np.linalg.eig(self.sample_cov)\n",
    "        \n",
    "    def compute_cov_inverse(self):\n",
    "        eval_diag = np.diag(self.eval)\n",
    "        eval_diag = np.linalg.inv(eval_diag) # INVERSE\n",
    "        print(eval_diag)\n",
    "        self.cov_inverse = (self.evec @ eval_diag) @ self.evec.T\n",
    "        # self.cov_inverse = np.linalg.inv(self.sample_cov)\n",
    "        \n",
    "    def compute_det_cov(self):\n",
    "        self.det_cov = np.linalg.det(self.sample_cov)"
   ]
  },
  {
   "cell_type": "code",
   "execution_count": 5,
   "id": "51a648a5",
   "metadata": {},
   "outputs": [],
   "source": [
    "# generating 5 random samples for two classes\n",
    "c1 = category(np.array([1, 3]), np.array([[1, 0], [0, 15]]))\n",
    "c2 = category(np.array([4, 7]), np.array([[3, 4], [4, 11]]))\n",
    "\n",
    "cls_labels = ['c1', 'c2']\n",
    "dataset = {'c1': c1, 'c2': c2}\n",
    "\n",
    "np.random.seed(42)\n",
    "for cls in cls_labels:\n",
    "    dataset[cls].generate_samples(5)\n",
    "    dataset[cls].add_noise(np.array([2, 2]), np.array([[2, 0], [0, 3]]))\n",
    "    dataset[cls].compute_smean()\n",
    "    dataset[cls].compute_scov()"
   ]
  },
  {
   "cell_type": "code",
   "execution_count": 6,
   "id": "758685f0",
   "metadata": {},
   "outputs": [
    {
     "name": "stdout",
     "output_type": "stream",
     "text": [
      "c1 samples:\n",
      "[[2.20309436 6.12110265]\n",
      " [1.81724299 7.92757787]\n",
      " [1.97066839 1.10548255]\n",
      " [4.21184757 9.36198997]\n",
      " [1.54526099 1.60898969]]\n",
      "\n",
      "\n",
      "c1 sample mean:\n",
      "[2.34962286 5.22502855]\n",
      "\n",
      "\n",
      "c1 sample covariance matrix:\n",
      "[[ 1.14084607  2.65089816]\n",
      " [ 2.65089816 13.81689193]]\n",
      "\n",
      "\n",
      "c2 samples:\n",
      "[[ 6.86584925  3.04033067]\n",
      " [ 5.9377443   8.122781  ]\n",
      " [ 4.89585036 12.26318217]\n",
      " [ 4.39336291 13.31151622]\n",
      " [ 7.40846803  8.54434762]]\n",
      "\n",
      "\n",
      "c2 sample mean:\n",
      "[5.90025497 9.05643154]\n",
      "\n",
      "\n",
      "c2 sample covariance matrix:\n",
      "[[ 1.62200918 -4.06231865]\n",
      " [-4.06231865 16.42909954]]\n",
      "\n",
      "\n"
     ]
    }
   ],
   "source": [
    "# printing results\n",
    "for cls in cls_labels:\n",
    "    print(f'{cls} samples:')\n",
    "    print(dataset[cls].samples)\n",
    "    print('\\n')\n",
    "    print(f'{cls} sample mean:')\n",
    "    print(dataset[cls].sample_mean)\n",
    "    print('\\n')\n",
    "    print(f'{cls} sample covariance matrix:')\n",
    "    print(dataset[cls].sample_cov)\n",
    "    print('\\n')"
   ]
  },
  {
   "cell_type": "markdown",
   "id": "0f948521",
   "metadata": {},
   "source": [
    "Question 2"
   ]
  },
  {
   "cell_type": "code",
   "execution_count": 7,
   "id": "7622aab2",
   "metadata": {},
   "outputs": [
    {
     "name": "stdout",
     "output_type": "stream",
     "text": [
      "c1 eigenvalues:\n",
      "[ 0.60880381 14.34893419]\n",
      "\n",
      "\n",
      "c1 eigenvectors:\n",
      "[[-0.98044797 -0.1967785 ]\n",
      " [ 0.1967785  -0.98044797]]\n",
      "\n",
      "\n",
      "c2 eigenvalues:\n",
      "[ 0.58073855 17.47037017]\n",
      "\n",
      "\n",
      "c2 eigenvectors:\n",
      "[[-0.96868392  0.24829714]\n",
      " [-0.24829714 -0.96868392]]\n",
      "\n",
      "\n"
     ]
    }
   ],
   "source": [
    "# computing eigenvalues and eigenvectors for each class\n",
    "for cls in cls_labels:\n",
    "    dataset[cls].compute_epairs()\n",
    "    \n",
    "# printing results\n",
    "for cls in cls_labels:\n",
    "    print(f'{cls} eigenvalues:')\n",
    "    print(dataset[cls].eval)\n",
    "    print('\\n')\n",
    "    print(f'{cls} eigenvectors:')\n",
    "    print(dataset[cls].evec)\n",
    "    print('\\n')"
   ]
  },
  {
   "cell_type": "code",
   "execution_count": 8,
   "id": "a8254437",
   "metadata": {},
   "outputs": [
    {
     "name": "stdout",
     "output_type": "stream",
     "text": [
      "[[1.64256527 0.        ]\n",
      " [0.         0.06969159]]\n",
      "[[1.72194528 0.        ]\n",
      " [0.         0.05723977]]\n",
      "c1 inverse covariance matrix:\n",
      "[[ 1.58166081 -0.30345622]\n",
      " [-0.30345622  0.13059605]]\n",
      "\n",
      "\n",
      "c2 inverse covariance matrix:\n",
      "[[1.61931374 0.40039738]\n",
      " [0.40039738 0.15987131]]\n",
      "\n",
      "\n"
     ]
    }
   ],
   "source": [
    "# computing inverse covariance using eigenvalues and eigenvectors\n",
    "for cls in cls_labels:\n",
    "    dataset[cls].compute_cov_inverse()\n",
    "    \n",
    "# printing results\n",
    "for cls in cls_labels:\n",
    "    print(f'{cls} inverse covariance matrix:')\n",
    "    print(dataset[cls].cov_inverse)\n",
    "    print('\\n')"
   ]
  },
  {
   "cell_type": "markdown",
   "id": "16bf7098",
   "metadata": {},
   "source": [
    "Question 3"
   ]
  },
  {
   "cell_type": "code",
   "execution_count": 176,
   "id": "1a096e66",
   "metadata": {},
   "outputs": [
    {
     "name": "stdout",
     "output_type": "stream",
     "text": [
      "q0 = [[-0.03765293 -0.70385359]\n",
      " [-0.70385359 -0.02927526]]\n",
      "q1 = [11.04979636  3.84094981]\n",
      "q2 = -107.42999268921044\n"
     ]
    }
   ],
   "source": [
    "# calculating decision boundary\n",
    "q0 = c1.cov_inverse - c2.cov_inverse\n",
    "q1 = (c2.sample_mean.T @ c2.cov_inverse) - (c1.sample_mean.T @ c1.cov_inverse)\n",
    "q2 = (c1.sample_mean.T @ c1.cov_inverse) @ c1.sample_mean - (c2.sample_mean.T @ c2.cov_inverse) @ c2.sample_mean\n",
    "\n",
    "# printing results\n",
    "print(f'q0 = {q0}')\n",
    "print(f'q1 = {q1}')\n",
    "print(f'q2 = {q2}')"
   ]
  },
  {
   "cell_type": "code",
   "execution_count": 177,
   "id": "7ed9a02a",
   "metadata": {},
   "outputs": [
    {
     "data": {
      "image/png": "[encoded data removed]",
      "text/plain": [
       "<Figure size 432x288 with 1 Axes>"
      ]
     },
     "metadata": {
      "needs_background": "light"
     },
     "output_type": "display_data"
    }
   ],
   "source": [
    "import matplotlib.pyplot as plt\n",
    "\n",
    "def decision_boundary(x1, x2):\n",
    "    return q0[0,0]*x1**2 + 2*q0[0,1]*x1*x2 + q0[1,1]*x2**2 + 2*(q1[0]*x1 + q1[1]*x2) + q2\n",
    "\n",
    "x1 = np.linspace(-20, 20, 400)\n",
    "x2 = np.linspace(-20, 20, 400)\n",
    "x1, x2 = np.meshgrid(x1, x2)\n",
    "z = decision_boundary(x1, x2)\n",
    "\n",
    "# plot decision boundary\n",
    "plt.contour(x1, x2, z, levels=[0], colors='r')\n",
    "\n",
    "# scatter data points\n",
    "plt.scatter(c1.samples[:,0], c1.samples[:,1], color='blue')\n",
    "plt.scatter(c2.samples[:,0], c2.samples[:,1], color='red')\n",
    "\n",
    "# labels\n",
    "plt.xlabel('x1')\n",
    "plt.ylabel('x2')\n",
    "plt.title('Decision Boundary for Mahalanobis Minimum Distance Classifier')\n",
    "\n",
    "plt.show()"
   ]
  },
  {
   "cell_type": "markdown",
   "id": "b3660cc9",
   "metadata": {},
   "source": [
    "Question 4"
   ]
  },
  {
   "cell_type": "code",
   "execution_count": 186,
   "id": "7ea96cb2",
   "metadata": {},
   "outputs": [],
   "source": [
    "# generating 50 random samples for two classes\n",
    "c1 = category(np.array([1, 3]), np.array([[1, 0], [0, 15]]))\n",
    "c2 = category(np.array([4, 7]), np.array([[3, 4], [4, 11]]))\n",
    "\n",
    "cls_labels = ['c1', 'c2']\n",
    "dataset = {'c1': c1, 'c2': c2}\n",
    "\n",
    "np.random.seed(42)\n",
    "for cls in cls_labels:\n",
    "    dataset[cls].generate_samples(50)\n",
    "    dataset[cls].add_noise(np.array([2, 2]), np.array([[2, 0], [0, 3]]))\n",
    "    dataset[cls].compute_smean()\n",
    "    dataset[cls].compute_scov()"
   ]
  },
  {
   "cell_type": "code",
   "execution_count": 187,
   "id": "c4c01100",
   "metadata": {},
   "outputs": [
    {
     "name": "stdout",
     "output_type": "stream",
     "text": [
      "c1 sample mean:\n",
      "[3.12606025 4.30920131]\n",
      "\n",
      "\n",
      "c1 sample covariance matrix:\n",
      "[[ 2.3386168   0.21137213]\n",
      " [ 0.21137213 12.71368466]]\n",
      "\n",
      "\n",
      "c2 sample mean:\n",
      "[5.9453451  8.79747236]\n",
      "\n",
      "\n",
      "c2 sample covariance matrix:\n",
      "[[ 4.58895613  4.37160008]\n",
      " [ 4.37160008 17.43386725]]\n",
      "\n",
      "\n"
     ]
    }
   ],
   "source": [
    "# printing results\n",
    "for cls in cls_labels:\n",
    "    \"\"\"print(f'{cls} samples:')\n",
    "    print(dataset[cls].samples)\n",
    "    print('\\n')\"\"\"\n",
    "    print(f'{cls} sample mean:')\n",
    "    print(dataset[cls].sample_mean)\n",
    "    print('\\n')\n",
    "    print(f'{cls} sample covariance matrix:')\n",
    "    print(dataset[cls].sample_cov)\n",
    "    print('\\n')"
   ]
  },
  {
   "cell_type": "code",
   "execution_count": 188,
   "id": "1c7e1635",
   "metadata": {},
   "outputs": [
    {
     "name": "stdout",
     "output_type": "stream",
     "text": [
      "c1 eigenvalues:\n",
      "[ 2.33431229 12.71798918]\n",
      "\n",
      "\n",
      "c1 eigenvectors:\n",
      "[[-0.99979271 -0.02036041]\n",
      " [ 0.02036041 -0.99979271]]\n",
      "\n",
      "\n",
      "c2 eigenvalues:\n",
      "[ 3.24231762 18.78050576]\n",
      "\n",
      "\n",
      "c2 eigenvectors:\n",
      "[[-0.9556849  -0.29439154]\n",
      " [ 0.29439154 -0.9556849 ]]\n",
      "\n",
      "\n"
     ]
    }
   ],
   "source": [
    "# computing eigenvalues and eigenvectors for each class\n",
    "for cls in cls_labels:\n",
    "    dataset[cls].compute_epairs()\n",
    "    \n",
    "# printing results\n",
    "for cls in cls_labels:\n",
    "    print(f'{cls} eigenvalues:')\n",
    "    print(dataset[cls].eval)\n",
    "    print('\\n')\n",
    "    print(f'{cls} eigenvectors:')\n",
    "    print(dataset[cls].evec)\n",
    "    print('\\n')"
   ]
  },
  {
   "cell_type": "code",
   "execution_count": 189,
   "id": "9508cebe",
   "metadata": {},
   "outputs": [
    {
     "name": "stdout",
     "output_type": "stream",
     "text": [
      "c1 inverse covariance matrix:\n",
      "[[ 0.4282467  -0.00711984]\n",
      " [-0.00711984  0.07877378]]\n",
      "\n",
      "\n",
      "c2 inverse covariance matrix:\n",
      "[[ 0.28630629 -0.07179225]\n",
      " [-0.07179225  0.07536177]]\n",
      "\n",
      "\n"
     ]
    }
   ],
   "source": [
    "# computing inverse covariance using eigenvalues and eigenvectors\n",
    "for cls in cls_labels:\n",
    "    dataset[cls].compute_cov_inverse()\n",
    "    \n",
    "# printing results\n",
    "for cls in cls_labels:\n",
    "    print(f'{cls} inverse covariance matrix:')\n",
    "    print(dataset[cls].cov_inverse)\n",
    "    print('\\n')"
   ]
  },
  {
   "cell_type": "code",
   "execution_count": 190,
   "id": "f34a2e65",
   "metadata": {},
   "outputs": [
    {
     "name": "stdout",
     "output_type": "stream",
     "text": [
      "q0 = [[0.14194041 0.06467241]\n",
      " [0.06467241 0.00341201]]\n",
      "q1 = [-0.23744481 -0.08103167]\n",
      "q2 = -2.9868410040882827\n"
     ]
    }
   ],
   "source": [
    "# calculating decision boundary\n",
    "q0 = c1.cov_inverse - c2.cov_inverse\n",
    "q1 = (c2.sample_mean.T @ c2.cov_inverse) - (c1.sample_mean.T @ c1.cov_inverse)\n",
    "q2 = (c1.sample_mean.T @ c1.cov_inverse) @ c1.sample_mean - (c2.sample_mean.T @ c2.cov_inverse) @ c2.sample_mean\n",
    "\n",
    "# printing results\n",
    "print(f'q0 = {q0}')\n",
    "print(f'q1 = {q1}')\n",
    "print(f'q2 = {q2}')"
   ]
  },
  {
   "cell_type": "code",
   "execution_count": 191,
   "id": "78320ae1",
   "metadata": {},
   "outputs": [
    {
     "data": {
      "image/png": "[encoded data removed]",
      "text/plain": [
       "<Figure size 432x288 with 1 Axes>"
      ]
     },
     "metadata": {
      "needs_background": "light"
     },
     "output_type": "display_data"
    }
   ],
   "source": [
    "import matplotlib.pyplot as plt\n",
    "\n",
    "def decision_boundary(x1, x2):\n",
    "    return q0[0,0]*x1**2 + 2*q0[0,1]*x1*x2 + q0[1,1]*x2**2 + 2*(q1[0]*x1 + q1[1]*x2) + q2\n",
    "\n",
    "x1 = np.linspace(-20, 20, 400)\n",
    "x2 = np.linspace(-20, 20, 400)\n",
    "x1, x2 = np.meshgrid(x1, x2)\n",
    "z = decision_boundary(x1, x2)\n",
    "\n",
    "# plot decision boundary\n",
    "plt.contour(x1, x2, z, levels=[0], colors='r')\n",
    "\n",
    "# scatter data points\n",
    "plt.scatter(c1.samples[:,0], c1.samples[:,1], color='blue')\n",
    "plt.scatter(c2.samples[:,0], c2.samples[:,1], color='red')\n",
    "\n",
    "# labels\n",
    "plt.xlabel('x1')\n",
    "plt.ylabel('x2')\n",
    "plt.title('Decision Boundary for Mahalanobis Minimum Distance Classifier')\n",
    "\n",
    "plt.show()"
   ]
  },
  {
   "cell_type": "markdown",
   "id": "b9382e04",
   "metadata": {},
   "source": [
    "Question 5"
   ]
  },
  {
   "cell_type": "code",
   "execution_count": 192,
   "id": "35e20d94",
   "metadata": {},
   "outputs": [
    {
     "name": "stdout",
     "output_type": "stream",
     "text": [
      "(100, 2)\n"
     ]
    }
   ],
   "source": [
    "# initializing two test classes\n",
    "t1 = category(np.array([1, 3]), np.array([[1, 0], [0, 15]]))\n",
    "t2 = category(np.array([4, 7]), np.array([[3, 4], [4, 11]]))\n",
    "\n",
    "cls_labels = ['t1', 't2']\n",
    "dataset = {'t1': t1, 't2': t2}\n",
    "\n",
    "N = 50\n",
    "np.random.seed(24)\n",
    "for cls in cls_labels:\n",
    "    dataset[cls].generate_samples(N)\n",
    "    dataset[cls].compute_smean()\n",
    "    \n",
    "    # create white noise with mean 0 and identity covariance matrix\n",
    "    noise_mean = np.array([0, 0])\n",
    "    noise_cov = np.identity(2)\n",
    "    noise_matrix = np.random.multivariate_normal(noise_mean, noise_cov, 50)\n",
    "    \n",
    "    # add white noise to samples\n",
    "    dataset[cls].samples = dataset[cls].samples + noise_matrix\n",
    "    \n",
    "# combine noisy samples for both classes\n",
    "noisy_samples = np.vstack((t1.samples, t2.samples))\n",
    "\n",
    "# labels for the noisy samples (0 for class 1, 1 for class 2)\n",
    "labels = np.concatenate((np.zeros(N), np.ones(N))).astype(int)\n",
    "\n",
    "# empty list for MMD predictions\n",
    "predicted_labels = []\n",
    "\n",
    "print(noisy_samples.shape)"
   ]
  },
  {
   "cell_type": "code",
   "execution_count": 193,
   "id": "f9733116",
   "metadata": {},
   "outputs": [
    {
     "name": "stdout",
     "output_type": "stream",
     "text": [
      "Accuracy = 77.00%\n"
     ]
    }
   ],
   "source": [
    "# 5 sample dataset\n",
    "\"\"\"q0 = np.array([[-0.03765293, -0.70385359], [-0.70385359, -0.02927526]])\n",
    "q1 = np.array([11.04979636, 3.84094981])\n",
    "q2 = -107.42999268921044\"\"\"\n",
    "\n",
    "# 50 sample dataset\n",
    "q0 = np.array([[0.14194041, 0.06467241], [0.06467241, 0.00341201]])\n",
    "q1 = np.array([-0.23744481, -0.08103167])\n",
    "q2 = -2.9868410040882827\n",
    "\n",
    "def classify(sample):\n",
    "    x1, x2 = sample\n",
    "    decision_boundary = q0[0,0]*x1**2 + 2*q0[0,1]*x1*x2 + q0[1,1]*x2**2 + 2*(q1[0]*x1 + q1[1]*x2) + q2\n",
    "\n",
    "    # if inside hyperbola, class 0, otherwise, class 1\n",
    "    if decision_boundary < 0:\n",
    "        return 0\n",
    "    else:\n",
    "        return 1\n",
    "\n",
    "# classify noisy samples\n",
    "for sample in noisy_samples:\n",
    "    predicted_labels.append(classify(sample))\n",
    "    \n",
    "# calculate classification accuracy\n",
    "accuracy = np.mean(labels == predicted_labels)\n",
    "print(f\"Accuracy = {accuracy * 100:.2f}%\")"
   ]
  },
  {
   "cell_type": "markdown",
   "id": "2b57aa35",
   "metadata": {},
   "source": [
    "Question 6"
   ]
  },
  {
   "cell_type": "markdown",
   "id": "3b085cde",
   "metadata": {},
   "source": [
    "Question 7"
   ]
  },
  {
   "cell_type": "code",
   "execution_count": 139,
   "id": "7626d717",
   "metadata": {},
   "outputs": [
    {
     "name": "stdout",
     "output_type": "stream",
     "text": [
      "Accuracy = 74.00%\n"
     ]
    }
   ],
   "source": [
    "# MED classifer\n",
    "def classify(sample):\n",
    "    boundary_vector = c2.sample_mean - c1.sample_mean\n",
    "    y = (boundary_vector.T @ sample) + 0.5*((c1.sample_mean @ c1.sample_mean.T) - (c2.sample_mean @ c2.sample_mean.T))\n",
    "    \n",
    "    if y > 0:\n",
    "        return 1\n",
    "    else:\n",
    "        return 0\n",
    "\n",
    "# classify noisy samples\n",
    "for sample in noisy_samples:\n",
    "    predicted_labels.append(classify(sample))\n",
    "    \n",
    "# calculate classification accuracy\n",
    "accuracy = np.mean(labels == predicted_labels)\n",
    "print(f\"Accuracy = {accuracy * 100:.2f}%\")"
   ]
  },
  {
   "cell_type": "markdown",
   "id": "2b235dc0",
   "metadata": {},
   "source": [
    "### Exercise 2: ML and MAP Classifiers\n",
    "Question 1"
   ]
  },
  {
   "cell_type": "code",
   "execution_count": 140,
   "id": "24073ef3",
   "metadata": {},
   "outputs": [],
   "source": [
    "# generating 50 random samples for two classes\n",
    "c1 = category(np.array([1, 3]), np.array([[1, 0], [0, 15]]))\n",
    "c2 = category(np.array([4, 7]), np.array([[3, 4], [4, 11]]))\n",
    "\n",
    "cls_labels = ['c1', 'c2']\n",
    "dataset = {'c1': c1, 'c2': c2}\n",
    "\n",
    "np.random.seed(42)\n",
    "for cls in cls_labels:\n",
    "    dataset[cls].generate_samples(50)\n",
    "    dataset[cls].add_noise(np.array([2, 2]), np.array([[2, 0], [0, 3]]))\n",
    "    dataset[cls].compute_smean()\n",
    "    dataset[cls].compute_scov()\n",
    "    dataset[cls].compute_cov_inverse()\n",
    "    dataset[cls].compute_det_cov()"
   ]
  },
  {
   "cell_type": "code",
   "execution_count": 207,
   "id": "499bd267",
   "metadata": {},
   "outputs": [
    {
     "name": "stdout",
     "output_type": "stream",
     "text": [
      "(100, 2)\n"
     ]
    }
   ],
   "source": [
    "# initializing two test classes\n",
    "t1 = category(np.array([1, 3]), np.array([[1, 0], [0, 15]]))\n",
    "t2 = category(np.array([4, 7]), np.array([[3, 4], [4, 11]]))\n",
    "\n",
    "cls_labels = ['t1', 't2']\n",
    "dataset = {'t1': t1, 't2': t2}\n",
    "\n",
    "N = 50\n",
    "np.random.seed(24)\n",
    "for cls in cls_labels:\n",
    "    dataset[cls].generate_samples(N)\n",
    "    dataset[cls].compute_smean()\n",
    "    \n",
    "    # create white noise with mean 0 and identity covariance matrix\n",
    "    noise_mean = np.array([0, 0])\n",
    "    noise_cov = np.identity(2)\n",
    "    noise_matrix = np.random.multivariate_normal(noise_mean, noise_cov, 50)\n",
    "    \n",
    "    # add white noise to samples\n",
    "    dataset[cls].samples = dataset[cls].samples + noise_matrix\n",
    "    \n",
    "# combine noisy samples for both classes\n",
    "noisy_samples = np.vstack((t1.samples, t2.samples))\n",
    "\n",
    "# labels for the noisy samples (0 for class 1, 1 for class 2)\n",
    "labels = np.concatenate((np.zeros(N), np.ones(N))).astype(int)\n",
    "\n",
    "# empty list for MMD predictions\n",
    "predicted_labels = []\n",
    "\n",
    "print(noisy_samples.shape)"
   ]
  },
  {
   "cell_type": "code",
   "execution_count": 206,
   "id": "c7ce496c",
   "metadata": {},
   "outputs": [
    {
     "name": "stdout",
     "output_type": "stream",
     "text": [
      "Accuracy = 81.00%\n"
     ]
    }
   ],
   "source": [
    "# ML classifier\n",
    "\n",
    "eta = 2*np.log(np.sqrt(np.linalg.det(c1.sample_cov))/np.sqrt(np.linalg.det(c2.sample_cov)))\n",
    "# print(eta)\n",
    "\n",
    "def classify(sample):\n",
    "    # calculate the likelihood ratio using multivariate Gaussian PDF\n",
    "    mahalanobis_c1 = ((sample - c1.sample_mean).T @ c1.cov_inverse) @ (sample - c1.sample_mean)\n",
    "    mahalanobis_c2 = ((sample - c2.sample_mean).T @ c2.cov_inverse) @ (sample - c2.sample_mean)\n",
    "    \n",
    "    decision = mahalanobis_c1 - mahalanobis_c2\n",
    "    \n",
    "    if decision < eta:\n",
    "        return 0\n",
    "    else:\n",
    "        return 1\n",
    "    \n",
    "# classify noisy samples\n",
    "for sample in noisy_samples:\n",
    "    predicted_labels.append(classify(sample))\n",
    "    \n",
    "# calculate classification accuracy\n",
    "accuracy = np.mean(labels == predicted_labels)\n",
    "print(f\"Accuracy = {accuracy * 100:.2f}%\")"
   ]
  },
  {
   "cell_type": "markdown",
   "id": "f37e73b0",
   "metadata": {},
   "source": [
    "Question 2"
   ]
  },
  {
   "cell_type": "code",
   "execution_count": 208,
   "id": "c1e7726e",
   "metadata": {},
   "outputs": [
    {
     "name": "stdout",
     "output_type": "stream",
     "text": [
      "Accuracy = 78.00%\n"
     ]
    }
   ],
   "source": [
    "# MAP classifier\n",
    "\n",
    "p_c1 = 0.58\n",
    "p_c2 = 0.42\n",
    "eta = 2*np.log(np.sqrt(np.linalg.det(c1.sample_cov))/np.sqrt(np.linalg.det(c2.sample_cov))) + 2*np.log(p_c1/p_c2)\n",
    "# print(eta)\n",
    "\n",
    "def classify(sample):\n",
    "    # calculate the likelihood ratio using multivariate Gaussian PDF\n",
    "    mahalanobis_c1 = ((sample - c1.sample_mean).T @ c1.cov_inverse) @ (sample - c1.sample_mean)\n",
    "    mahalanobis_c2 = ((sample - c2.sample_mean).T @ c2.cov_inverse) @ (sample - c2.sample_mean)\n",
    "    \n",
    "    decision = mahalanobis_c1 - mahalanobis_c2\n",
    "    \n",
    "    if decision < eta:\n",
    "        return 0\n",
    "    else:\n",
    "        return 1\n",
    "    \n",
    "# classify noisy samples\n",
    "for sample in noisy_samples:\n",
    "    predicted_labels.append(classify(sample))\n",
    "    \n",
    "# calculate classification accuracy\n",
    "accuracy = np.mean(labels == predicted_labels)\n",
    "print(f\"Accuracy = {accuracy * 100:.2f}%\")"
   ]
  },
  {
   "cell_type": "markdown",
   "id": "7b7d72dc",
   "metadata": {},
   "source": [
    "Question 3"
   ]
  },
  {
   "cell_type": "markdown",
   "id": "5dafd9c0",
   "metadata": {},
   "source": [
    "Question 4"
   ]
  },
  {
   "cell_type": "markdown",
   "id": "ae4491a0",
   "metadata": {},
   "source": [
    "### Exercise 3: Parametric Estimation\n",
    "Question 1"
   ]
  },
  {
   "cell_type": "markdown",
   "id": "81a4a924",
   "metadata": {},
   "source": [
    "Question 2"
   ]
  },
  {
   "cell_type": "markdown",
   "id": "3ae3bac9",
   "metadata": {},
   "source": [
    "Question 3"
   ]
  },
  {
   "cell_type": "markdown",
   "id": "3164afa8",
   "metadata": {},
   "source": [
    "Question 4"
   ]
  },
  {
   "cell_type": "code",
   "execution_count": 3,
   "id": "d9664842",
   "metadata": {},
   "outputs": [
    {
     "name": "stdout",
     "output_type": "stream",
     "text": [
      "(100,)\n"
     ]
    }
   ],
   "source": [
    "# initializing two test classes\n",
    "cls_labels = ['c1', 'c2']\n",
    "testing = {'c1': None, 'c2': None}\n",
    "\n",
    "# generate training data\n",
    "N = 5\n",
    "np.random.seed(42)\n",
    "c1_training = np.random.normal(0.5, 1, N)\n",
    "c2_training = np.random.normal(5, 3, N)\n",
    "\n",
    "# generate testing data\n",
    "N = 50\n",
    "np.random.seed(24)\n",
    "testing['c1'] = np.random.normal(0.5, 1, N)\n",
    "testing['c2'] = np.random.normal(5, 3, N)\n",
    "\n",
    "for cls in cls_labels:\n",
    "    # create white noise with mean 0 and identity covariance matrix\n",
    "    noise_mean = 0\n",
    "    noise_std = 1\n",
    "    noise_matrix = np.random.normal(noise_mean, noise_std, N)\n",
    "\n",
    "    # add white noise to samples\n",
    "    testing[cls] = testing[cls] + noise_matrix\n",
    "    \n",
    "# combine noisy samples for both classes\n",
    "noisy_samples = np.concatenate((testing['c1'], testing['c2']))\n",
    "\n",
    "# labels for the noisy samples (0 for class 1, 1 for class 2)\n",
    "labels = np.concatenate((np.zeros(N), np.ones(N))).astype(int)\n",
    "\n",
    "# empty list for MMD predictions\n",
    "predicted_labels = []\n",
    "\n",
    "print(noisy_samples.shape)"
   ]
  },
  {
   "cell_type": "code",
   "execution_count": 262,
   "id": "4d87d86c",
   "metadata": {},
   "outputs": [
    {
     "name": "stdout",
     "output_type": "stream",
     "text": [
      "Accuracy = 82.00%\n"
     ]
    }
   ],
   "source": [
    "# exponential distribution\n",
    "\n",
    "# compute estimators from training data\n",
    "c1_lambd = 1/np.mean(c1_training)\n",
    "c2_lambd = 1/np.mean(c2_training)\n",
    "\n",
    "def classify(sample):    \n",
    "    c1_prob = c1_lambd*np.exp(-c1_lambd*sample)\n",
    "    c2_prob = c2_lambd*np.exp(-c2_lambd*sample)\n",
    "    \n",
    "    if c1_prob > c2_prob:\n",
    "        return 0\n",
    "    else:\n",
    "        return 1\n",
    "    \n",
    "# classify noisy samples\n",
    "for sample in noisy_samples:\n",
    "    predicted_labels.append(classify(sample))\n",
    "    \n",
    "# calculate classification accuracy\n",
    "accuracy = np.mean(labels == predicted_labels)\n",
    "print(f\"Accuracy = {accuracy * 100:.2f}%\")"
   ]
  },
  {
   "cell_type": "code",
   "execution_count": 5,
   "id": "645f5c6e",
   "metadata": {},
   "outputs": [
    {
     "name": "stdout",
     "output_type": "stream",
     "text": [
      "Accuracy = 50.00%\n"
     ]
    }
   ],
   "source": [
    "# uniform distribution\n",
    "\n",
    "# compute estimators from training data\n",
    "c1_a = min(c1_training)\n",
    "c1_b = max(c1_training)\n",
    "c2_a = min(c2_training)\n",
    "c2_b = max(c2_training)\n",
    "\n",
    "def classify(sample):\n",
    "    c1_prob = 1/(c1_b - c1_a)\n",
    "    c2_prob = 1/(c2_b - c2_a)\n",
    "    \n",
    "    if c1_prob > c2_prob:\n",
    "        return 0\n",
    "    else:\n",
    "        return 1\n",
    "    \n",
    "# classify noisy samples\n",
    "for sample in noisy_samples:\n",
    "    predicted_labels.append(classify(sample))\n",
    "    \n",
    "# calculate classification accuracy\n",
    "accuracy = np.mean(labels == predicted_labels)\n",
    "print(f\"Accuracy = {accuracy * 100:.2f}%\")"
   ]
  },
  {
   "cell_type": "code",
   "execution_count": 260,
   "id": "0ccec9a1",
   "metadata": {},
   "outputs": [
    {
     "name": "stdout",
     "output_type": "stream",
     "text": [
      "Accuracy = 82.00%\n"
     ]
    }
   ],
   "source": [
    "# gaussian x exponential distribution\n",
    "\n",
    "# compute estimators from training data\n",
    "c1_mean = np.mean(c1_training)\n",
    "c1_lambd = 1/c1_mean\n",
    "c1_var = 0\n",
    "for _, x in enumerate(c1_training):\n",
    "    c1_var += (x - c1_mean)**2\n",
    "c1_var = c1_var/N\n",
    "\n",
    "c2_mean = np.mean(c2_training)\n",
    "c2_lambd = 1/c2_mean\n",
    "c2_var = 0\n",
    "for _, x in enumerate(c2_training):\n",
    "    c2_var += (x - c2_mean)**2\n",
    "c2_var = c2_var/N\n",
    "\n",
    "def classify(sample):\n",
    "    c1_prob = c1_lambd/(2*np.sqrt(2*np.pi*c1_var))*np.exp((-1/2)*((sample - c1_mean)**2)/c1_var - c1_lambd*sample)\n",
    "    c2_prob = c2_lambd/(2*np.sqrt(2*np.pi*c2_var))*np.exp((-1/2)*((sample - c2_mean)**2)/c2_var - c2_lambd*sample)\n",
    "    \n",
    "    if c1_prob > c2_prob:\n",
    "        return 0\n",
    "    else:\n",
    "        return 1\n",
    "    \n",
    "# classify noisy samples\n",
    "for sample in noisy_samples:\n",
    "    predicted_labels.append(classify(sample))\n",
    "    \n",
    "# calculate classification accuracy\n",
    "accuracy = np.mean(labels == predicted_labels)\n",
    "print(f\"Accuracy = {accuracy * 100:.2f}%\")"
   ]
  },
  {
   "cell_type": "code",
   "execution_count": null,
   "id": "2d3c7018",
   "metadata": {},
   "outputs": [],
   "source": []
  }
 ],
 "metadata": {
  "kernelspec": {
   "display_name": "Python 3",
   "language": "python",
   "name": "python3"
  },
  "language_info": {
   "codemirror_mode": {
    "name": "ipython",
    "version": 3
   },
   "file_extension": ".py",
   "mimetype": "text/x-python",
   "name": "python",
   "nbconvert_exporter": "python",
   "pygments_lexer": "ipython3",
   "version": "3.8.8"
  }
 },
 "nbformat": 4,
 "nbformat_minor": 5
}
