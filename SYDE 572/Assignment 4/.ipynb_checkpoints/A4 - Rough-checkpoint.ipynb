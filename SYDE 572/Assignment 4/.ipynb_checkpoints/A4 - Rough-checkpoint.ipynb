{
 "cells": [
  {
   "cell_type": "code",
   "execution_count": 1,
   "id": "8b288922",
   "metadata": {},
   "outputs": [],
   "source": [
    "import numpy as np\n",
    "import matplotlib.pyplot as plt"
   ]
  },
  {
   "cell_type": "markdown",
   "id": "02498beb",
   "metadata": {},
   "source": [
    "### Exercise 1: Logistic Regression"
   ]
  },
  {
   "cell_type": "code",
   "execution_count": 2,
   "id": "bbe642e5",
   "metadata": {},
   "outputs": [],
   "source": [
    "import torch\n",
    "import torchvision\n",
    "from torchvision.datasets import MNIST\n",
    "from sklearn.decomposition import PCA"
   ]
  },
  {
   "cell_type": "code",
   "execution_count": 18,
   "id": "c038dcfb",
   "metadata": {},
   "outputs": [],
   "source": [
    "root = 'data'\n",
    "classes = (0, 1)\n",
    "np.random.seed(42) # for consistency between runs\n",
    "\n",
    "# load data and select the classes of interest\n",
    "trainset = MNIST(root=root, train=True, download=True)\n",
    "subset_idx = torch.isin(trainset.targets, torch.as_tensor(classes))\n",
    "train_images = trainset.data[subset_idx].numpy()\n",
    "train_labels = trainset.targets[subset_idx].numpy()\n",
    "\n",
    "testset = MNIST(root=root, train=False, download=True)\n",
    "subset_idx = torch.isin(testset.targets, torch.as_tensor(classes))\n",
    "test_images = testset.data[subset_idx].numpy()\n",
    "test_labels = testset.targets[subset_idx].numpy()\n",
    "\n",
    "# flatten images to 784x1\n",
    "train_images_flat = train_images.reshape(-1, 28*28)\n",
    "test_images_flat = test_images.reshape(-1, 28*28)\n",
    "\n",
    "# PCA --> 2x1\n",
    "pca = PCA(n_components=2)\n",
    "train_pca = pca.fit_transform(train_images_flat).astype(np.float32)\n",
    "test_pca = pca.fit_transform(test_images_flat).astype(np.float32)\n",
    "\n",
    "# scale data\n",
    "from sklearn.preprocessing import StandardScaler\n",
    "scaler = StandardScaler().fit(train_pca)\n",
    "train_scaled = scaler.transform(train_pca)\n",
    "test_scaled = scaler.transform(test_pca)"
   ]
  },
  {
   "cell_type": "code",
   "execution_count": 19,
   "id": "c46eb2fb",
   "metadata": {},
   "outputs": [
    {
     "name": "stdout",
     "output_type": "stream",
     "text": [
      "(12665, 2)\n",
      "(12665,)\n",
      "(2115, 2)\n",
      "(2115,)\n"
     ]
    }
   ],
   "source": [
    "print(train_pca.shape)\n",
    "print(train_labels.shape)\n",
    "print(test_pca.shape)\n",
    "print(test_labels.shape)"
   ]
  },
  {
   "cell_type": "code",
   "execution_count": 27,
   "id": "13488aad",
   "metadata": {},
   "outputs": [
    {
     "name": "stdout",
     "output_type": "stream",
     "text": [
      "[-0.9528539   0.32520705]\n",
      "[1.101331   0.59506166 1.        ]\n"
     ]
    }
   ],
   "source": [
    "print(test_scaled[0])\n",
    "print(X_train[0])"
   ]
  },
  {
   "cell_type": "code",
   "execution_count": 21,
   "id": "2d0bbff3",
   "metadata": {},
   "outputs": [
    {
     "name": "stdout",
     "output_type": "stream",
     "text": [
      "(12665, 2)\n",
      "(2115, 2)\n"
     ]
    }
   ],
   "source": [
    "print(X_train.shape)\n",
    "print(X_test.shape)"
   ]
  },
  {
   "cell_type": "markdown",
   "id": "9a0b4685",
   "metadata": {},
   "source": [
    "#### Question 1: Logistic regression implementation"
   ]
  },
  {
   "cell_type": "code",
   "execution_count": 38,
   "id": "73ab607e",
   "metadata": {},
   "outputs": [],
   "source": [
    "def augment(training_data):\n",
    "    # add a column of ones corresponding to the bias weight\n",
    "    x0 = np.ones((len(training_data), 1))\n",
    "    X = np.column_stack((training_data, x0))\n",
    "    return X\n",
    "\n",
    "def theta_init(X):\n",
    "    theta = np.random.randn(len(X[0]), 1)\n",
    "    return theta\n",
    "\n",
    "def sigmoid(X):\n",
    "    return 1/(1 + np.exp(-np.clip(X, -500, 500)))\n",
    "\n",
    "def compute_loss(y, y_pred):\n",
    "    eps = 1e-15  # small constant to avoid log(0)\n",
    "    y_pred = np.clip(y_pred, eps, 1 - eps)\n",
    "    return -np.sum(y.T @ np.log(y_pred) + (1-y).T @ np.log(1-y_pred))/len(y_pred)\n",
    "\n",
    "def log_regression(X, y, lr, n_iter, tol):\n",
    "    # initialize weights\n",
    "    theta = theta_init(X)\n",
    "    print(f\"initial weights = {theta}\")\n",
    "    \n",
    "    m = len(X)\n",
    "    theta_list = []\n",
    "    loss = []\n",
    "    \n",
    "    for i in range(n_iter):\n",
    "        # predict + compute loss before updating weights (t-1)\n",
    "        y_pred1 = sigmoid(X @ theta)\n",
    "        loss1 = compute_loss(y, y_pred1)\n",
    "        \n",
    "        # calculate gradients vector\n",
    "        gradients = (2/m)*(X.T @ (y_pred1 - y))\n",
    "        \n",
    "        # update weights\n",
    "        theta = theta - lr*gradients\n",
    "        \n",
    "        # predict + compute loss after updating weights (t)\n",
    "        y_pred2 = sigmoid(X @ theta)\n",
    "        loss2 = compute_loss(y, y_pred2)\n",
    "        \n",
    "        theta_list.append(theta)\n",
    "        loss.append(loss2)\n",
    "        \n",
    "        \"\"\"# check if convergence criterion reached\n",
    "        if loss2 - loss1 < tol:\n",
    "            break\"\"\"\n",
    "                    \n",
    "    return theta_list, loss"
   ]
  },
  {
   "cell_type": "code",
   "execution_count": 39,
   "id": "60845f15",
   "metadata": {},
   "outputs": [
    {
     "name": "stdout",
     "output_type": "stream",
     "text": [
      "initial weights = [[-0.96061318]\n",
      " [ 0.89305593]\n",
      " [-0.23861703]]\n",
      "final weights = [[-1.43051663]\n",
      " [ 0.58958981]\n",
      " [-0.11451607]]\n"
     ]
    }
   ],
   "source": [
    "# train the model\n",
    "epochs = 100\n",
    "tol = 1e-6\n",
    "learning_rate = 0.01\n",
    "\n",
    "X = augment(train_scaled)\n",
    "y = np.reshape(train_labels, (len(train_labels), 1))\n",
    "\n",
    "theta, loss = log_regression(X, y, learning_rate, epochs, tol)\n",
    "print(f\"final weights = {theta[-1]}\")"
   ]
  },
  {
   "cell_type": "code",
   "execution_count": 344,
   "id": "afb7cb3d",
   "metadata": {},
   "outputs": [
    {
     "name": "stdout",
     "output_type": "stream",
     "text": [
      "[[-1.33492031]\n",
      " [-0.48136002]\n",
      " [-1.88147649]]\n"
     ]
    }
   ],
   "source": [
    "print(theta[-5])"
   ]
  },
  {
   "cell_type": "markdown",
   "id": "0d9c4134",
   "metadata": {},
   "source": [
    "#### Question 2: Plotting"
   ]
  },
  {
   "cell_type": "code",
   "execution_count": 40,
   "id": "c8c7b6e6",
   "metadata": {},
   "outputs": [
    {
     "data": {
      "image/png": "[encoded data removed]",
      "text/plain": [
       "<Figure size 576x432 with 1 Axes>"
      ]
     },
     "metadata": {
      "needs_background": "light"
     },
     "output_type": "display_data"
    }
   ],
   "source": [
    "# (a) test error vs number of epochs (last 5 epochs)\n",
    "X_test = augment(test_scaled)\n",
    "\n",
    "test_accuracy = []\n",
    "for i in range(0, 100):\n",
    "    y_pred = np.round(sigmoid(X_test @ theta[i]))\n",
    "    test_accuracy.append(np.mean(y_pred == test_labels))\n",
    "\n",
    "# (b) training error vs number of epochs (last 5 epochs)\n",
    "X_train = augment(train_scaled)\n",
    "\n",
    "train_accuracy = []\n",
    "for i in range(0, 100):\n",
    "    y_pred = np.round(sigmoid(X_train @ theta[i]))\n",
    "    train_accuracy.append(np.mean(y_pred == train_labels))\n",
    "\n",
    "# plotting\n",
    "epochs = [i for i in range(0, 100)]\n",
    "\n",
    "plt.figure(figsize=(8, 6))\n",
    "plt.plot(epochs, test_accuracy, marker='o', linestyle='-', label='Test Accuracy')\n",
    "plt.plot(epochs, train_accuracy, marker='o', linestyle='-', label='Training Accuracy')\n",
    "plt.title('Training and Test Accuracy vs. Epoch')\n",
    "plt.xlabel('Epoch')\n",
    "plt.ylabel('Accuracy')\n",
    "plt.legend()\n",
    "plt.grid(True)\n",
    "plt.show()"
   ]
  },
  {
   "cell_type": "code",
   "execution_count": 41,
   "id": "dc33bb29",
   "metadata": {},
   "outputs": [
    {
     "data": {
      "image/png": "[encoded data removed]",
      "text/plain": [
       "<Figure size 576x432 with 1 Axes>"
      ]
     },
     "metadata": {
      "needs_background": "light"
     },
     "output_type": "display_data"
    }
   ],
   "source": [
    "# (c) test loss vs number of epochs (last 5 epochs)\n",
    "X_test = augment(test_scaled)\n",
    "y_test = np.reshape(test_labels, (len(test_labels), 1))\n",
    "\n",
    "test_loss = []\n",
    "for i in range(0, 100):\n",
    "    y_pred = np.round(sigmoid(X_test @ theta[i]))\n",
    "    loss = compute_loss(y_test, y_pred)\n",
    "    test_loss.append(loss)\n",
    "\n",
    "# (d) train loss vs number of epochs (last 5 epochs)\n",
    "X_train = augment(train_scaled)\n",
    "y_train = np.reshape(train_labels, (len(train_labels), 1))\n",
    "\n",
    "train_loss = []\n",
    "for i in range(0, 100):\n",
    "    y_pred = np.round(sigmoid(X_train @ theta[i]))\n",
    "    loss = compute_loss(y_train, y_pred)\n",
    "    train_loss.append(loss)\n",
    "\n",
    "# plotting\n",
    "epochs = [i for i in range(0, 100)]\n",
    "\n",
    "plt.figure(figsize=(8, 6))\n",
    "plt.plot(epochs, test_loss, marker='o', linestyle='-', label='Test Loss')\n",
    "plt.plot(epochs, train_loss, marker='o', linestyle='-', label='Train Loss')\n",
    "plt.title('Training and Test Loss vs. Epoch')\n",
    "plt.xlabel('Epoch')\n",
    "plt.ylabel('Loss')\n",
    "plt.legend()\n",
    "plt.grid(True)\n",
    "plt.show()"
   ]
  },
  {
   "cell_type": "markdown",
   "id": "3911af30",
   "metadata": {},
   "source": [
    "### Exercise 2: CNN Implementation"
   ]
  },
  {
   "cell_type": "code",
   "execution_count": 3,
   "id": "1852c61d",
   "metadata": {},
   "outputs": [],
   "source": [
    "\"\"\"root = 'data'\n",
    "\n",
    "# load data and select the classes of interest\n",
    "transform = transforms.Compose([\n",
    "    transforms.Grayscale(num_output_channels=1),\n",
    "    transforms.Resize((32, 32)),\n",
    "    transforms.ToTensor()\n",
    "])\n",
    "\n",
    "trainset = MNIST(root=root, train=True, download=True, transform=transform)\n",
    "testset = MNIST(root=root, train=False, download=True, transform=transform)\n",
    "\n",
    "# reduce the training set if needed\n",
    "# train_dataset = torch.utils.data.Subset(train_dataset, range(0, len(train_dataset)//10))\n",
    "\n",
    "# subset for classes 0 and 1\n",
    "classes = [0, 1]\n",
    "train_indices = torch.tensor([i for i in range(len(trainset)) if trainset.targets[i] in classes])\n",
    "test_indices = torch.tensor([i for i in range(len(testset)) if testset.targets[i] in classes])\n",
    "\n",
    "train_dataset = torch.utils.data.Subset(trainset, train_indices)\n",
    "test_dataset = torch.utils.data.Subset(testset, test_indices)\n",
    "\n",
    "train_loader = torch.utils.data.DataLoader(dataset=trainset, batch_size=64, shuffle=True)\n",
    "test_loader = torch.utils.data.DataLoader(dataset=testset, batch_size=64, shuffle=False)\"\"\""
   ]
  },
  {
   "cell_type": "code",
   "execution_count": 1,
   "id": "a3b41016",
   "metadata": {},
   "outputs": [],
   "source": [
    "import torch\n",
    "import torch.nn as nn\n",
    "import torch.optim as optim\n",
    "import torchvision\n",
    "import torchvision.transforms as transforms\n",
    "from torchvision.datasets import MNIST"
   ]
  },
  {
   "cell_type": "code",
   "execution_count": 2,
   "id": "169a4728",
   "metadata": {},
   "outputs": [],
   "source": [
    "import numpy as np\n",
    "\n",
    "def resize_batch(imgs):\n",
    "    imgs = imgs.reshape((-1, 28, 28, 1))\n",
    "    resized_imgs = np.zeros((imgs.shape[0], 32, 32, 1))\n",
    "    \n",
    "    for i in range(imgs.shape[0]):\n",
    "        # add 2 pixels of padding to the top, bottom, left, and right\n",
    "        resized_imgs[i, ..., 0] = np.pad(imgs[i, ..., 0], ((2, 2), (2, 2)), mode='constant')\n",
    "    \n",
    "    return resized_imgs"
   ]
  },
  {
   "cell_type": "code",
   "execution_count": 8,
   "id": "836627b5",
   "metadata": {},
   "outputs": [
    {
     "name": "stderr",
     "output_type": "stream",
     "text": [
      "<ipython-input-8-4ea96316490f>:30: UserWarning: To copy construct from a tensor, it is recommended to use sourceTensor.clone().detach() or sourceTensor.clone().detach().requires_grad_(True), rather than torch.tensor(sourceTensor).\n",
      "  y[label].append(torch.tensor(dataset[label].targets[subset_idx][:600]).long())\n"
     ]
    }
   ],
   "source": [
    "root = 'data'\n",
    "classes = (0, 1, 2, 3, 4, 5, 6, 7, 8, 9)\n",
    "\n",
    "# load data and select the classes of interest\n",
    "transform = transforms.Compose([\n",
    "    transforms.Grayscale(num_output_channels=1),\n",
    "    transforms.ToTensor()\n",
    "])\n",
    "\n",
    "# load data\n",
    "labels = ['train', 'test']\n",
    "dataset = {'train': MNIST(root=root, train=True, download=True, transform=transform), \n",
    "            'test': MNIST(root=root, train=False, download=True, transform=transform)}\n",
    "\n",
    "# resize images to (32, 32)\n",
    "for label in labels:\n",
    "    dataset[label].data = resize_batch(dataset[label].data.numpy())\n",
    "\n",
    "# create dicts for storing sampled data\n",
    "X = {'train': [], 'test': []}\n",
    "y = {'train': [], 'test': []}\n",
    "\n",
    "# for the training and test datasets\n",
    "for label in labels:\n",
    "    # sample 600 points for each class\n",
    "    for c in classes:\n",
    "        subset_idx = torch.isin(dataset[label].targets, torch.as_tensor(c))\n",
    "        # convert to tensor\n",
    "        X[label].append(torch.tensor(dataset[label].data[subset_idx][:600]).float())\n",
    "        y[label].append(torch.tensor(dataset[label].targets[subset_idx][:600]).long()) \n",
    "    \n",
    "    # concatenate along the first dimension\n",
    "    X[label] = torch.cat(X[label], dim=0)\n",
    "    y[label] = torch.cat(y[label], dim=0)    "
   ]
  },
  {
   "cell_type": "code",
   "execution_count": 4,
   "id": "db82c67e",
   "metadata": {},
   "outputs": [
    {
     "name": "stdout",
     "output_type": "stream",
     "text": [
      "torch.Size([6000, 32, 32, 1])\n",
      "torch.Size([6000, 32, 32, 1])\n",
      "torch.Size([6000])\n",
      "torch.Size([6000])\n"
     ]
    }
   ],
   "source": [
    "print(X['train'].shape)\n",
    "print(X['test'].shape)\n",
    "print(y['train'].shape)\n",
    "print(y['test'].shape)"
   ]
  },
  {
   "cell_type": "markdown",
   "id": "1ed943f6",
   "metadata": {},
   "source": [
    "#### Question 1: Implement a VGG11 net"
   ]
  },
  {
   "cell_type": "code",
   "execution_count": 11,
   "id": "af845a38",
   "metadata": {},
   "outputs": [],
   "source": [
    "# VGG11 model with features and classifier\n",
    "class VGG11(nn.Module):\n",
    "    def __init__(self):\n",
    "        super(VGG11, self).__init__()\n",
    "\n",
    "        # Define convolutional layers (self.features)\n",
    "        self.features = nn.Sequential(\n",
    "            # 1. Conv(001, 064, 3, 1, 1) - BatchNorm(064) - ReLU - MaxPool(2, 2)\n",
    "            nn.Conv2d(1, 64, kernel_size=3, stride=1, padding=1),\n",
    "            nn.BatchNorm2d(64),\n",
    "            nn.ReLU(),\n",
    "            nn.MaxPool2d(kernel_size=2, stride=2),\n",
    "\n",
    "            # 2. Conv(064, 128, 3, 1, 1) - BatchNorm(128) - ReLU - MaxPool(2, 2)\n",
    "            nn.Conv2d(64, 128, kernel_size=3, stride=1, padding=1),\n",
    "            nn.BatchNorm2d(128),\n",
    "            nn.ReLU(),\n",
    "            nn.MaxPool2d(kernel_size=2, stride=2),\n",
    "\n",
    "            # 3. Conv(128, 256, 3, 1, 1) - BatchNorm(256) - ReLU\n",
    "            nn.Conv2d(128, 256, kernel_size=3, stride=1, padding=1),\n",
    "            nn.BatchNorm2d(256),\n",
    "            nn.ReLU(),\n",
    "\n",
    "            # 4. Conv(256, 256, 3, 1, 1) - BatchNorm(256) - ReLU - MaxPool(2, 2)\n",
    "            nn.Conv2d(256, 256, kernel_size=3, stride=1, padding=1),\n",
    "            nn.BatchNorm2d(256),\n",
    "            nn.ReLU(),\n",
    "            nn.MaxPool2d(kernel_size=2, stride=2),\n",
    "\n",
    "            # 5. Conv(256, 512, 3, 1, 1) - BatchNorm(512) - ReLU\n",
    "            nn.Conv2d(256, 512, kernel_size=3, stride=1, padding=1),\n",
    "            nn.BatchNorm2d(512),\n",
    "            nn.ReLU(),\n",
    "\n",
    "            # 6. Conv(512, 512, 3, 1, 1) - BatchNorm(512) - ReLU - MaxPool(2, 2)\n",
    "            nn.Conv2d(512, 512, kernel_size=3, stride=1, padding=1),\n",
    "            nn.BatchNorm2d(512),\n",
    "            nn.ReLU(),\n",
    "            nn.MaxPool2d(kernel_size=2, stride=2),\n",
    "\n",
    "            # 7. Conv(512, 512, 3, 1, 1) - BatchNorm(512) - ReLU\n",
    "            nn.Conv2d(512, 512, kernel_size=3, stride=1, padding=1),\n",
    "            nn.BatchNorm2d(512),\n",
    "            nn.ReLU(),\n",
    "            nn.MaxPool2d(kernel_size=2, stride=2),\n",
    "            \n",
    "            # 8. Conv(512, 512, 3, 1, 1) - BatchNorm(512) - ReLU - MaxPool(2, 2)\n",
    "            nn.Conv2d(512, 512, kernel_size=3, stride=1, padding=1),\n",
    "            nn.BatchNorm2d(512),\n",
    "            nn.ReLU(),\n",
    "            nn.MaxPool2d(kernel_size=2, stride=2)\n",
    "        )\n",
    "\n",
    "        # Define fully connected layers (self.classifier)\n",
    "        self.classifier = nn.Sequential(\n",
    "            nn.Linear(512, 4096),\n",
    "            nn.ReLU(),\n",
    "            nn.Dropout(0.5),\n",
    "\n",
    "            nn.Linear(4096, 4096),\n",
    "            nn.ReLU(),\n",
    "            nn.Dropout(0.5),\n",
    "\n",
    "            nn.Linear(4096, 10)\n",
    "        )\n",
    "\n",
    "    def forward(self, x):\n",
    "        x = self.features(x)\n",
    "        x = x.view(x.size(0), -1)\n",
    "        x = self.classifier(x)\n",
    "        return x"
   ]
  },
  {
   "cell_type": "code",
   "execution_count": 38,
   "id": "1e88f626",
   "metadata": {},
   "outputs": [
    {
     "name": "stdout",
     "output_type": "stream",
     "text": [
      "6000\n"
     ]
    }
   ],
   "source": [
    "import torch\n",
    "import torch.nn as nn\n",
    "import torch.optim as optim\n",
    "from torchvision.datasets import MNIST\n",
    "from torchvision import transforms\n",
    "from torch.utils.data import DataLoader, Subset, random_split\n",
    "\n",
    "def resize_batch(imgs):\n",
    "    imgs = imgs.numpy() # con\n",
    "    imgs = imgs.reshape((-1, 28, 28, 1))\n",
    "    resized_imgs = np.zeros((imgs.shape[0], 32, 32, 1))\n",
    "    for i in range(imgs.shape[0]):\n",
    "        # Resize using numpy\n",
    "        resized_imgs[i, ..., 0] = np.pad(imgs[i, ..., 0], ((2, 2), (2, 2)), mode='constant')\n",
    "    return resized_imgs\n",
    "\n",
    "# load and preprocess data\n",
    "transform = transforms.Compose([\n",
    "    transforms.Grayscale(num_output_channels=1),\n",
    "    transforms.ToTensor()\n",
    "])\n",
    "\n",
    "# load data\n",
    "labels = ['train', 'test']\n",
    "dataset = {'train': MNIST(root=root, train=True, download=True, transform=transform), \n",
    "            'test': MNIST(root=root, train=False, download=True, transform=transform)}\n",
    "\n",
    "# create dicts for storing sampled data subsets\n",
    "subset = {'train': [], 'test': []}\n",
    "indices = {'train': [], 'test': []}\n",
    "\n",
    "# for the training and test datasets\n",
    "for label in labels:\n",
    "    # sample 600 points for each class\n",
    "    for c in range(10):\n",
    "        idx = [i for i, lbl in enumerate(dataset[label].targets) if lbl == c]\n",
    "        indices[label].extend(idx[:600])\n",
    "\n",
    "# create Subset datasets using the sampled indices\n",
    "subset['train'] = Subset(dataset['train'], indices['train'])\n",
    "subset['test'] = Subset(dataset['test'], indices['test'])\n",
    "\n",
    "# resize images to (32, 32)\n",
    "for label in labels:\n",
    "    subset[label].data = resize_batch(dataset[label].data)\n",
    "\n",
    "print(len(subset['train']))\n",
    "\n",
    "# set up DataLoader\n",
    "train_loader = DataLoader(subset['train'], batch_size=64, shuffle=True)\n",
    "test_loader = DataLoader(subset['test'], batch_size=64, shuffle=False)"
   ]
  },
  {
   "cell_type": "code",
   "execution_count": 41,
   "id": "56721c24",
   "metadata": {},
   "outputs": [
    {
     "name": "stdout",
     "output_type": "stream",
     "text": [
      "torch.Size([60000, 28, 28])\n",
      "(60000, 32, 32, 1)\n"
     ]
    },
    {
     "ename": "TypeError",
     "evalue": "'DataLoader' object is not subscriptable",
     "output_type": "error",
     "traceback": [
      "\u001b[1;31m---------------------------------------------------------------------------\u001b[0m",
      "\u001b[1;31mTypeError\u001b[0m                                 Traceback (most recent call last)",
      "\u001b[1;32m<ipython-input-41-f06604c305a4>\u001b[0m in \u001b[0;36m<module>\u001b[1;34m\u001b[0m\n\u001b[0;32m      1\u001b[0m \u001b[0mprint\u001b[0m\u001b[1;33m(\u001b[0m\u001b[0mdataset\u001b[0m\u001b[1;33m[\u001b[0m\u001b[1;34m'train'\u001b[0m\u001b[1;33m]\u001b[0m\u001b[1;33m.\u001b[0m\u001b[0mdata\u001b[0m\u001b[1;33m.\u001b[0m\u001b[0mshape\u001b[0m\u001b[1;33m)\u001b[0m\u001b[1;33m\u001b[0m\u001b[1;33m\u001b[0m\u001b[0m\n\u001b[0;32m      2\u001b[0m \u001b[0mprint\u001b[0m\u001b[1;33m(\u001b[0m\u001b[0msubset\u001b[0m\u001b[1;33m[\u001b[0m\u001b[1;34m'train'\u001b[0m\u001b[1;33m]\u001b[0m\u001b[1;33m.\u001b[0m\u001b[0mdata\u001b[0m\u001b[1;33m.\u001b[0m\u001b[0mshape\u001b[0m\u001b[1;33m)\u001b[0m\u001b[1;33m\u001b[0m\u001b[1;33m\u001b[0m\u001b[0m\n\u001b[1;32m----> 3\u001b[1;33m \u001b[0mprint\u001b[0m\u001b[1;33m(\u001b[0m\u001b[0mtrain_loader\u001b[0m\u001b[1;33m[\u001b[0m\u001b[1;36m0\u001b[0m\u001b[1;33m]\u001b[0m\u001b[1;33m.\u001b[0m\u001b[0mshape\u001b[0m\u001b[1;33m)\u001b[0m\u001b[1;33m\u001b[0m\u001b[1;33m\u001b[0m\u001b[0m\n\u001b[0m",
      "\u001b[1;31mTypeError\u001b[0m: 'DataLoader' object is not subscriptable"
     ]
    }
   ],
   "source": [
    "print(dataset['train'].data.shape)\n",
    "print(subset['train'].data.shape)\n",
    "print(train_loader[0].shape)"
   ]
  },
  {
   "cell_type": "code",
   "execution_count": 20,
   "id": "8e037d40",
   "metadata": {},
   "outputs": [
    {
     "ename": "AttributeError",
     "evalue": "'numpy.ndarray' object has no attribute 'numpy'",
     "output_type": "error",
     "traceback": [
      "\u001b[1;31m---------------------------------------------------------------------------\u001b[0m",
      "\u001b[1;31mAttributeError\u001b[0m                            Traceback (most recent call last)",
      "\u001b[1;32m<ipython-input-20-0994aea44ef3>\u001b[0m in \u001b[0;36m<module>\u001b[1;34m\u001b[0m\n\u001b[0;32m      9\u001b[0m \u001b[1;32mfor\u001b[0m \u001b[0mepoch\u001b[0m \u001b[1;32min\u001b[0m \u001b[0mrange\u001b[0m\u001b[1;33m(\u001b[0m\u001b[0mn_epochs\u001b[0m\u001b[1;33m)\u001b[0m\u001b[1;33m:\u001b[0m\u001b[1;33m\u001b[0m\u001b[1;33m\u001b[0m\u001b[0m\n\u001b[0;32m     10\u001b[0m     \u001b[0mmodel\u001b[0m\u001b[1;33m.\u001b[0m\u001b[0mtrain\u001b[0m\u001b[1;33m(\u001b[0m\u001b[1;33m)\u001b[0m\u001b[1;33m\u001b[0m\u001b[1;33m\u001b[0m\u001b[0m\n\u001b[1;32m---> 11\u001b[1;33m     \u001b[1;32mfor\u001b[0m \u001b[0mbatch\u001b[0m \u001b[1;32min\u001b[0m \u001b[0mtrain_loader\u001b[0m\u001b[1;33m:\u001b[0m\u001b[1;33m\u001b[0m\u001b[1;33m\u001b[0m\u001b[0m\n\u001b[0m\u001b[0;32m     12\u001b[0m         \u001b[0minputs\u001b[0m\u001b[1;33m,\u001b[0m \u001b[0mlabels\u001b[0m \u001b[1;33m=\u001b[0m \u001b[0mbatch\u001b[0m\u001b[1;33m\u001b[0m\u001b[1;33m\u001b[0m\u001b[0m\n\u001b[0;32m     13\u001b[0m         \u001b[0moptimizer\u001b[0m\u001b[1;33m.\u001b[0m\u001b[0mzero_grad\u001b[0m\u001b[1;33m(\u001b[0m\u001b[1;33m)\u001b[0m\u001b[1;33m\u001b[0m\u001b[1;33m\u001b[0m\u001b[0m\n",
      "\u001b[1;32m~\\anaconda3\\lib\\site-packages\\torch\\utils\\data\\dataloader.py\u001b[0m in \u001b[0;36m__next__\u001b[1;34m(self)\u001b[0m\n\u001b[0;32m    628\u001b[0m                 \u001b[1;31m# TODO(https://github.com/pytorch/pytorch/issues/76750)\u001b[0m\u001b[1;33m\u001b[0m\u001b[1;33m\u001b[0m\u001b[1;33m\u001b[0m\u001b[0m\n\u001b[0;32m    629\u001b[0m                 \u001b[0mself\u001b[0m\u001b[1;33m.\u001b[0m\u001b[0m_reset\u001b[0m\u001b[1;33m(\u001b[0m\u001b[1;33m)\u001b[0m  \u001b[1;31m# type: ignore[call-arg]\u001b[0m\u001b[1;33m\u001b[0m\u001b[1;33m\u001b[0m\u001b[0m\n\u001b[1;32m--> 630\u001b[1;33m             \u001b[0mdata\u001b[0m \u001b[1;33m=\u001b[0m \u001b[0mself\u001b[0m\u001b[1;33m.\u001b[0m\u001b[0m_next_data\u001b[0m\u001b[1;33m(\u001b[0m\u001b[1;33m)\u001b[0m\u001b[1;33m\u001b[0m\u001b[1;33m\u001b[0m\u001b[0m\n\u001b[0m\u001b[0;32m    631\u001b[0m             \u001b[0mself\u001b[0m\u001b[1;33m.\u001b[0m\u001b[0m_num_yielded\u001b[0m \u001b[1;33m+=\u001b[0m \u001b[1;36m1\u001b[0m\u001b[1;33m\u001b[0m\u001b[1;33m\u001b[0m\u001b[0m\n\u001b[0;32m    632\u001b[0m             \u001b[1;32mif\u001b[0m \u001b[0mself\u001b[0m\u001b[1;33m.\u001b[0m\u001b[0m_dataset_kind\u001b[0m \u001b[1;33m==\u001b[0m \u001b[0m_DatasetKind\u001b[0m\u001b[1;33m.\u001b[0m\u001b[0mIterable\u001b[0m \u001b[1;32mand\u001b[0m\u001b[0;31m \u001b[0m\u001b[0;31m\\\u001b[0m\u001b[1;33m\u001b[0m\u001b[1;33m\u001b[0m\u001b[0m\n",
      "\u001b[1;32m~\\anaconda3\\lib\\site-packages\\torch\\utils\\data\\dataloader.py\u001b[0m in \u001b[0;36m_next_data\u001b[1;34m(self)\u001b[0m\n\u001b[0;32m    672\u001b[0m     \u001b[1;32mdef\u001b[0m \u001b[0m_next_data\u001b[0m\u001b[1;33m(\u001b[0m\u001b[0mself\u001b[0m\u001b[1;33m)\u001b[0m\u001b[1;33m:\u001b[0m\u001b[1;33m\u001b[0m\u001b[1;33m\u001b[0m\u001b[0m\n\u001b[0;32m    673\u001b[0m         \u001b[0mindex\u001b[0m \u001b[1;33m=\u001b[0m \u001b[0mself\u001b[0m\u001b[1;33m.\u001b[0m\u001b[0m_next_index\u001b[0m\u001b[1;33m(\u001b[0m\u001b[1;33m)\u001b[0m  \u001b[1;31m# may raise StopIteration\u001b[0m\u001b[1;33m\u001b[0m\u001b[1;33m\u001b[0m\u001b[0m\n\u001b[1;32m--> 674\u001b[1;33m         \u001b[0mdata\u001b[0m \u001b[1;33m=\u001b[0m \u001b[0mself\u001b[0m\u001b[1;33m.\u001b[0m\u001b[0m_dataset_fetcher\u001b[0m\u001b[1;33m.\u001b[0m\u001b[0mfetch\u001b[0m\u001b[1;33m(\u001b[0m\u001b[0mindex\u001b[0m\u001b[1;33m)\u001b[0m  \u001b[1;31m# may raise StopIteration\u001b[0m\u001b[1;33m\u001b[0m\u001b[1;33m\u001b[0m\u001b[0m\n\u001b[0m\u001b[0;32m    675\u001b[0m         \u001b[1;32mif\u001b[0m \u001b[0mself\u001b[0m\u001b[1;33m.\u001b[0m\u001b[0m_pin_memory\u001b[0m\u001b[1;33m:\u001b[0m\u001b[1;33m\u001b[0m\u001b[1;33m\u001b[0m\u001b[0m\n\u001b[0;32m    676\u001b[0m             \u001b[0mdata\u001b[0m \u001b[1;33m=\u001b[0m \u001b[0m_utils\u001b[0m\u001b[1;33m.\u001b[0m\u001b[0mpin_memory\u001b[0m\u001b[1;33m.\u001b[0m\u001b[0mpin_memory\u001b[0m\u001b[1;33m(\u001b[0m\u001b[0mdata\u001b[0m\u001b[1;33m,\u001b[0m \u001b[0mself\u001b[0m\u001b[1;33m.\u001b[0m\u001b[0m_pin_memory_device\u001b[0m\u001b[1;33m)\u001b[0m\u001b[1;33m\u001b[0m\u001b[1;33m\u001b[0m\u001b[0m\n",
      "\u001b[1;32m~\\anaconda3\\lib\\site-packages\\torch\\utils\\data\\_utils\\fetch.py\u001b[0m in \u001b[0;36mfetch\u001b[1;34m(self, possibly_batched_index)\u001b[0m\n\u001b[0;32m     47\u001b[0m         \u001b[1;32mif\u001b[0m \u001b[0mself\u001b[0m\u001b[1;33m.\u001b[0m\u001b[0mauto_collation\u001b[0m\u001b[1;33m:\u001b[0m\u001b[1;33m\u001b[0m\u001b[1;33m\u001b[0m\u001b[0m\n\u001b[0;32m     48\u001b[0m             \u001b[1;32mif\u001b[0m \u001b[0mhasattr\u001b[0m\u001b[1;33m(\u001b[0m\u001b[0mself\u001b[0m\u001b[1;33m.\u001b[0m\u001b[0mdataset\u001b[0m\u001b[1;33m,\u001b[0m \u001b[1;34m\"__getitems__\"\u001b[0m\u001b[1;33m)\u001b[0m \u001b[1;32mand\u001b[0m \u001b[0mself\u001b[0m\u001b[1;33m.\u001b[0m\u001b[0mdataset\u001b[0m\u001b[1;33m.\u001b[0m\u001b[0m__getitems__\u001b[0m\u001b[1;33m:\u001b[0m\u001b[1;33m\u001b[0m\u001b[1;33m\u001b[0m\u001b[0m\n\u001b[1;32m---> 49\u001b[1;33m                 \u001b[0mdata\u001b[0m \u001b[1;33m=\u001b[0m \u001b[0mself\u001b[0m\u001b[1;33m.\u001b[0m\u001b[0mdataset\u001b[0m\u001b[1;33m.\u001b[0m\u001b[0m__getitems__\u001b[0m\u001b[1;33m(\u001b[0m\u001b[0mpossibly_batched_index\u001b[0m\u001b[1;33m)\u001b[0m\u001b[1;33m\u001b[0m\u001b[1;33m\u001b[0m\u001b[0m\n\u001b[0m\u001b[0;32m     50\u001b[0m             \u001b[1;32melse\u001b[0m\u001b[1;33m:\u001b[0m\u001b[1;33m\u001b[0m\u001b[1;33m\u001b[0m\u001b[0m\n\u001b[0;32m     51\u001b[0m                 \u001b[0mdata\u001b[0m \u001b[1;33m=\u001b[0m \u001b[1;33m[\u001b[0m\u001b[0mself\u001b[0m\u001b[1;33m.\u001b[0m\u001b[0mdataset\u001b[0m\u001b[1;33m[\u001b[0m\u001b[0midx\u001b[0m\u001b[1;33m]\u001b[0m \u001b[1;32mfor\u001b[0m \u001b[0midx\u001b[0m \u001b[1;32min\u001b[0m \u001b[0mpossibly_batched_index\u001b[0m\u001b[1;33m]\u001b[0m\u001b[1;33m\u001b[0m\u001b[1;33m\u001b[0m\u001b[0m\n",
      "\u001b[1;32m~\\anaconda3\\lib\\site-packages\\torch\\utils\\data\\dataset.py\u001b[0m in \u001b[0;36m__getitems__\u001b[1;34m(self, indices)\u001b[0m\n\u001b[0;32m    362\u001b[0m             \u001b[1;32mreturn\u001b[0m \u001b[0mself\u001b[0m\u001b[1;33m.\u001b[0m\u001b[0mdataset\u001b[0m\u001b[1;33m.\u001b[0m\u001b[0m__getitems__\u001b[0m\u001b[1;33m(\u001b[0m\u001b[1;33m[\u001b[0m\u001b[0mself\u001b[0m\u001b[1;33m.\u001b[0m\u001b[0mindices\u001b[0m\u001b[1;33m[\u001b[0m\u001b[0midx\u001b[0m\u001b[1;33m]\u001b[0m \u001b[1;32mfor\u001b[0m \u001b[0midx\u001b[0m \u001b[1;32min\u001b[0m \u001b[0mindices\u001b[0m\u001b[1;33m]\u001b[0m\u001b[1;33m)\u001b[0m  \u001b[1;31m# type: ignore[attr-defined]\u001b[0m\u001b[1;33m\u001b[0m\u001b[1;33m\u001b[0m\u001b[0m\n\u001b[0;32m    363\u001b[0m         \u001b[1;32melse\u001b[0m\u001b[1;33m:\u001b[0m\u001b[1;33m\u001b[0m\u001b[1;33m\u001b[0m\u001b[0m\n\u001b[1;32m--> 364\u001b[1;33m             \u001b[1;32mreturn\u001b[0m \u001b[1;33m[\u001b[0m\u001b[0mself\u001b[0m\u001b[1;33m.\u001b[0m\u001b[0mdataset\u001b[0m\u001b[1;33m[\u001b[0m\u001b[0mself\u001b[0m\u001b[1;33m.\u001b[0m\u001b[0mindices\u001b[0m\u001b[1;33m[\u001b[0m\u001b[0midx\u001b[0m\u001b[1;33m]\u001b[0m\u001b[1;33m]\u001b[0m \u001b[1;32mfor\u001b[0m \u001b[0midx\u001b[0m \u001b[1;32min\u001b[0m \u001b[0mindices\u001b[0m\u001b[1;33m]\u001b[0m\u001b[1;33m\u001b[0m\u001b[1;33m\u001b[0m\u001b[0m\n\u001b[0m\u001b[0;32m    365\u001b[0m \u001b[1;33m\u001b[0m\u001b[0m\n\u001b[0;32m    366\u001b[0m     \u001b[1;32mdef\u001b[0m \u001b[0m__len__\u001b[0m\u001b[1;33m(\u001b[0m\u001b[0mself\u001b[0m\u001b[1;33m)\u001b[0m\u001b[1;33m:\u001b[0m\u001b[1;33m\u001b[0m\u001b[1;33m\u001b[0m\u001b[0m\n",
      "\u001b[1;32m~\\anaconda3\\lib\\site-packages\\torch\\utils\\data\\dataset.py\u001b[0m in \u001b[0;36m<listcomp>\u001b[1;34m(.0)\u001b[0m\n\u001b[0;32m    362\u001b[0m             \u001b[1;32mreturn\u001b[0m \u001b[0mself\u001b[0m\u001b[1;33m.\u001b[0m\u001b[0mdataset\u001b[0m\u001b[1;33m.\u001b[0m\u001b[0m__getitems__\u001b[0m\u001b[1;33m(\u001b[0m\u001b[1;33m[\u001b[0m\u001b[0mself\u001b[0m\u001b[1;33m.\u001b[0m\u001b[0mindices\u001b[0m\u001b[1;33m[\u001b[0m\u001b[0midx\u001b[0m\u001b[1;33m]\u001b[0m \u001b[1;32mfor\u001b[0m \u001b[0midx\u001b[0m \u001b[1;32min\u001b[0m \u001b[0mindices\u001b[0m\u001b[1;33m]\u001b[0m\u001b[1;33m)\u001b[0m  \u001b[1;31m# type: ignore[attr-defined]\u001b[0m\u001b[1;33m\u001b[0m\u001b[1;33m\u001b[0m\u001b[0m\n\u001b[0;32m    363\u001b[0m         \u001b[1;32melse\u001b[0m\u001b[1;33m:\u001b[0m\u001b[1;33m\u001b[0m\u001b[1;33m\u001b[0m\u001b[0m\n\u001b[1;32m--> 364\u001b[1;33m             \u001b[1;32mreturn\u001b[0m \u001b[1;33m[\u001b[0m\u001b[0mself\u001b[0m\u001b[1;33m.\u001b[0m\u001b[0mdataset\u001b[0m\u001b[1;33m[\u001b[0m\u001b[0mself\u001b[0m\u001b[1;33m.\u001b[0m\u001b[0mindices\u001b[0m\u001b[1;33m[\u001b[0m\u001b[0midx\u001b[0m\u001b[1;33m]\u001b[0m\u001b[1;33m]\u001b[0m \u001b[1;32mfor\u001b[0m \u001b[0midx\u001b[0m \u001b[1;32min\u001b[0m \u001b[0mindices\u001b[0m\u001b[1;33m]\u001b[0m\u001b[1;33m\u001b[0m\u001b[1;33m\u001b[0m\u001b[0m\n\u001b[0m\u001b[0;32m    365\u001b[0m \u001b[1;33m\u001b[0m\u001b[0m\n\u001b[0;32m    366\u001b[0m     \u001b[1;32mdef\u001b[0m \u001b[0m__len__\u001b[0m\u001b[1;33m(\u001b[0m\u001b[0mself\u001b[0m\u001b[1;33m)\u001b[0m\u001b[1;33m:\u001b[0m\u001b[1;33m\u001b[0m\u001b[1;33m\u001b[0m\u001b[0m\n",
      "\u001b[1;32m~\\anaconda3\\lib\\site-packages\\torchvision\\datasets\\mnist.py\u001b[0m in \u001b[0;36m__getitem__\u001b[1;34m(self, index)\u001b[0m\n\u001b[0;32m    140\u001b[0m         \u001b[1;31m# doing this so that it is consistent with all other datasets\u001b[0m\u001b[1;33m\u001b[0m\u001b[1;33m\u001b[0m\u001b[1;33m\u001b[0m\u001b[0m\n\u001b[0;32m    141\u001b[0m         \u001b[1;31m# to return a PIL Image\u001b[0m\u001b[1;33m\u001b[0m\u001b[1;33m\u001b[0m\u001b[1;33m\u001b[0m\u001b[0m\n\u001b[1;32m--> 142\u001b[1;33m         \u001b[0mimg\u001b[0m \u001b[1;33m=\u001b[0m \u001b[0mImage\u001b[0m\u001b[1;33m.\u001b[0m\u001b[0mfromarray\u001b[0m\u001b[1;33m(\u001b[0m\u001b[0mimg\u001b[0m\u001b[1;33m.\u001b[0m\u001b[0mnumpy\u001b[0m\u001b[1;33m(\u001b[0m\u001b[1;33m)\u001b[0m\u001b[1;33m,\u001b[0m \u001b[0mmode\u001b[0m\u001b[1;33m=\u001b[0m\u001b[1;34m\"L\"\u001b[0m\u001b[1;33m)\u001b[0m\u001b[1;33m\u001b[0m\u001b[1;33m\u001b[0m\u001b[0m\n\u001b[0m\u001b[0;32m    143\u001b[0m \u001b[1;33m\u001b[0m\u001b[0m\n\u001b[0;32m    144\u001b[0m         \u001b[1;32mif\u001b[0m \u001b[0mself\u001b[0m\u001b[1;33m.\u001b[0m\u001b[0mtransform\u001b[0m \u001b[1;32mis\u001b[0m \u001b[1;32mnot\u001b[0m \u001b[1;32mNone\u001b[0m\u001b[1;33m:\u001b[0m\u001b[1;33m\u001b[0m\u001b[1;33m\u001b[0m\u001b[0m\n",
      "\u001b[1;31mAttributeError\u001b[0m: 'numpy.ndarray' object has no attribute 'numpy'"
     ]
    }
   ],
   "source": [
    "# Initialize model, loss function, and optimizer\n",
    "model = VGG11()\n",
    "loss_fn = nn.CrossEntropyLoss()\n",
    "optimizer = optim.SGD(model.parameters(), lr=0.01, momentum=0.9)\n",
    "\n",
    "# Training\n",
    "n_epochs = 5\n",
    "\n",
    "for epoch in range(n_epochs):\n",
    "    model.train()\n",
    "    for batch in train_loader:\n",
    "        inputs, labels = batch\n",
    "        optimizer.zero_grad()\n",
    "        outputs = model(inputs)\n",
    "        loss = loss_fn(outputs, labels)\n",
    "        loss.backward()\n",
    "        optimizer.step()\n",
    "\n",
    "    # Print training statistics\n",
    "    print(f'Epoch [{epoch + 1}/{n_epochs}], Loss: {loss.item():.4f}')\n",
    "\n",
    "# Evaluation\n",
    "model.eval()\n",
    "correct = 0\n",
    "total = 0\n",
    "\n",
    "with torch.no_grad():\n",
    "    for batch in test_loader:\n",
    "        inputs, labels = batch\n",
    "        outputs = model(inputs)\n",
    "        _, predicted = torch.max(outputs.data, 1)\n",
    "        total += labels.size(0)\n",
    "        correct += (predicted == labels).sum().item()\n",
    "\n",
    "accuracy = correct / total\n",
    "print(f'Test Accuracy: {accuracy:.4f}')"
   ]
  },
  {
   "cell_type": "code",
   "execution_count": 9,
   "id": "396165d1",
   "metadata": {},
   "outputs": [],
   "source": [
    "\"\"\"# VGG11 model\n",
    "class VGG11(nn.Module):\n",
    "    def __init__(self):\n",
    "        super().__init__()\n",
    "        # 1. Conv(001, 064, 3, 1, 1) - BatchNorm(064) - ReLU - MaxPool(2, 2)\n",
    "        self.conv1 = nn.Conv2d(1, 64, kernel_size=3, stride=1, padding=1)\n",
    "        self.BatchNorm1 = nn.BatchNorm2d(64)\n",
    "        self.act1 = nn.ReLU()\n",
    "        self.maxPool1 = nn.MaxPool2d(kernel_size=2, stride=2)\n",
    "        \n",
    "        # 2. Conv(064, 128, 3, 1, 1) - BatchNorm(128) - ReLU - MaxPool(2, 2)\n",
    "        self.conv2 = nn.Conv2d(64, 128, kernel_size=3, stride=1, padding=1)\n",
    "        self.BatchNorm2 = nn.BatchNorm2d(128)\n",
    "        self.act2 = nn.ReLU()\n",
    "        self.maxPool2 = nn.MaxPool2d(kernel_size=2, stride=2)\n",
    "        \n",
    "        # 3. Conv(128, 256, 3, 1, 1) - BatchNorm(256) - ReLU\n",
    "        self.conv3 = nn.Conv2d(128, 256, kernel_size=3, stride=1, padding=1)\n",
    "        self.BatchNorm3 = nn.BatchNorm2d(256)\n",
    "        self.act3 = nn.ReLU()\n",
    "        \n",
    "        # 4. Conv(256, 256, 3, 1, 1) - BatchNorm(256) - ReLU - MaxPool(2, 2)\n",
    "        self.conv4 = nn.Conv2d(256, 256, kernel_size=3, stride=1, padding=1)\n",
    "        self.BatchNorm4 = nn.BatchNorm2d(256)\n",
    "        self.act4 = nn.ReLU()\n",
    "        self.maxPool4 = nn.MaxPool2d(kernel_size=2, stride=2)\n",
    "        \n",
    "        # 5. Conv(256, 512, 3, 1, 1) - BatchNorm(512) - ReLU\n",
    "        self.conv5 = nn.Conv2d(256, 512, kernel_size=3, stride=1, padding=1)\n",
    "        self.BatchNorm5 = nn.BatchNorm2d(512)\n",
    "        self.act5 = nn.ReLU()\n",
    "        \n",
    "        # 6. Conv(512, 512, 3, 1, 1) - BatchNorm(512) - ReLU - MaxPool(2, 2)\n",
    "        self.conv6 = nn.Conv2d(512, 512, kernel_size=3, stride=1, padding=1)\n",
    "        self.BatchNorm6 = nn.BatchNorm2d(512)\n",
    "        self.act6 = nn.ReLU()\n",
    "        self.maxPool6 = nn.MaxPool2d(kernel_size=2, stride=2)\n",
    "        \n",
    "        # 7. Conv(512, 512, 3, 1, 1) - BatchNorm(512) - ReLU\n",
    "        self.conv7 = nn.Conv2d(512, 512, kernel_size=3, stride=1, padding=1)\n",
    "        self.BatchNorm7 = nn.BatchNorm2d(512)\n",
    "        self.act7 = nn.ReLU()\n",
    "        \n",
    "        # 8. Conv(512, 512, 3, 1, 1) - BatchNorm(512) - ReLU - MaxPool(2, 2)\n",
    "        self.conv8 = nn.Conv2d(512, 512, kernel_size=3, stride=1, padding=1)\n",
    "        self.BatchNorm8 = nn.BatchNorm2d(512)\n",
    "        self.act8 = nn.ReLU()\n",
    "        self.maxPool8 = nn.MaxPool2d(kernel_size=2, stride=2)\n",
    "        \n",
    "        # 9. Linear(0512, 4096) - ReLU - Dropout(0.5)\n",
    "        self.hidden9 = nn.Linear(512, 4096)\n",
    "        self.act9 = nn.ReLU()\n",
    "        self.drop9 = nn.Dropout(0.5)\n",
    "        \n",
    "        # 10. Linear(4096, 4096) - ReLU - Dropout(0.5)\n",
    "        self.hidden10 = nn.Linear(4096, 4096)\n",
    "        self.act10 = nn.ReLU()\n",
    "        self.drop10 = nn.Dropout(0.5)\n",
    "        \n",
    "        # 11. Linear(4096, 10)\n",
    "        self.output = nn.Linear(4096, 10)\n",
    "        \n",
    "    def forward(self, x):\n",
    "        # adjust input shape: reshape using view\n",
    "        # x = x.view(x.size(0), 1, 32, 32)\n",
    "    \n",
    "        # convolutional layers\n",
    "        x = self.maxPool1(self.act1(self.BatchNorm1(self.conv1(x))))\n",
    "        x = self.maxPool2(self.act2(self.BatchNorm2(self.conv2(x))))\n",
    "        x = self.act3(self.BatchNorm3(self.conv3(x)))\n",
    "        x = self.maxPool4(self.act4(self.BatchNorm4(self.conv4(x))))\n",
    "        x = self.act5(self.BatchNorm5(self.conv5(x)))\n",
    "        x = self.maxPool6(self.act6(self.BatchNorm6(self.conv6(x))))\n",
    "        x = self.act7(self.BatchNorm7(self.conv7(x)))\n",
    "        x = self.maxPool8(self.act8(self.BatchNorm8(self.conv8(x))))\n",
    "        \n",
    "        # flatten output of convolutional layers\n",
    "        x = x.view(x.size(0), -1)\n",
    "        \n",
    "        # fully connected layers\n",
    "        x = self.drop9(self.act9(self.hidden9(x)))\n",
    "        x = self.drop10(self.act10(self.hidden10(x)))\n",
    "        x = self.output(x)\n",
    "        return x\"\"\""
   ]
  },
  {
   "cell_type": "code",
   "execution_count": 10,
   "id": "532cc432",
   "metadata": {},
   "outputs": [
    {
     "ename": "RuntimeError",
     "evalue": "Given groups=1, weight of size [64, 1, 3, 3], expected input[64, 32, 32, 1] to have 1 channels, but got 32 channels instead",
     "output_type": "error",
     "traceback": [
      "\u001b[1;31m---------------------------------------------------------------------------\u001b[0m",
      "\u001b[1;31mRuntimeError\u001b[0m                              Traceback (most recent call last)",
      "\u001b[1;32m<ipython-input-10-7e18bf5e8bba>\u001b[0m in \u001b[0;36m<module>\u001b[1;34m\u001b[0m\n\u001b[0;32m     21\u001b[0m         \u001b[0my_batch\u001b[0m \u001b[1;33m=\u001b[0m \u001b[0my\u001b[0m\u001b[1;33m[\u001b[0m\u001b[0mi\u001b[0m\u001b[1;33m:\u001b[0m\u001b[0mi\u001b[0m\u001b[1;33m+\u001b[0m\u001b[0mbatch_size\u001b[0m\u001b[1;33m]\u001b[0m\u001b[1;33m\u001b[0m\u001b[1;33m\u001b[0m\u001b[0m\n\u001b[0;32m     22\u001b[0m \u001b[1;33m\u001b[0m\u001b[0m\n\u001b[1;32m---> 23\u001b[1;33m         \u001b[0my_pred\u001b[0m \u001b[1;33m=\u001b[0m \u001b[0mmodel\u001b[0m\u001b[1;33m(\u001b[0m\u001b[0mx_batch\u001b[0m\u001b[1;33m)\u001b[0m\u001b[1;33m\u001b[0m\u001b[1;33m\u001b[0m\u001b[0m\n\u001b[0m\u001b[0;32m     24\u001b[0m         \u001b[0mloss\u001b[0m \u001b[1;33m=\u001b[0m \u001b[0mloss_fn\u001b[0m\u001b[1;33m(\u001b[0m\u001b[0my_pred\u001b[0m\u001b[1;33m,\u001b[0m \u001b[0my_batch\u001b[0m\u001b[1;33m)\u001b[0m\u001b[1;33m\u001b[0m\u001b[1;33m\u001b[0m\u001b[0m\n\u001b[0;32m     25\u001b[0m \u001b[1;33m\u001b[0m\u001b[0m\n",
      "\u001b[1;32m~\\anaconda3\\lib\\site-packages\\torch\\nn\\modules\\module.py\u001b[0m in \u001b[0;36m_wrapped_call_impl\u001b[1;34m(self, *args, **kwargs)\u001b[0m\n\u001b[0;32m   1516\u001b[0m             \u001b[1;32mreturn\u001b[0m \u001b[0mself\u001b[0m\u001b[1;33m.\u001b[0m\u001b[0m_compiled_call_impl\u001b[0m\u001b[1;33m(\u001b[0m\u001b[1;33m*\u001b[0m\u001b[0margs\u001b[0m\u001b[1;33m,\u001b[0m \u001b[1;33m**\u001b[0m\u001b[0mkwargs\u001b[0m\u001b[1;33m)\u001b[0m  \u001b[1;31m# type: ignore[misc]\u001b[0m\u001b[1;33m\u001b[0m\u001b[1;33m\u001b[0m\u001b[0m\n\u001b[0;32m   1517\u001b[0m         \u001b[1;32melse\u001b[0m\u001b[1;33m:\u001b[0m\u001b[1;33m\u001b[0m\u001b[1;33m\u001b[0m\u001b[0m\n\u001b[1;32m-> 1518\u001b[1;33m             \u001b[1;32mreturn\u001b[0m \u001b[0mself\u001b[0m\u001b[1;33m.\u001b[0m\u001b[0m_call_impl\u001b[0m\u001b[1;33m(\u001b[0m\u001b[1;33m*\u001b[0m\u001b[0margs\u001b[0m\u001b[1;33m,\u001b[0m \u001b[1;33m**\u001b[0m\u001b[0mkwargs\u001b[0m\u001b[1;33m)\u001b[0m\u001b[1;33m\u001b[0m\u001b[1;33m\u001b[0m\u001b[0m\n\u001b[0m\u001b[0;32m   1519\u001b[0m \u001b[1;33m\u001b[0m\u001b[0m\n\u001b[0;32m   1520\u001b[0m     \u001b[1;32mdef\u001b[0m \u001b[0m_call_impl\u001b[0m\u001b[1;33m(\u001b[0m\u001b[0mself\u001b[0m\u001b[1;33m,\u001b[0m \u001b[1;33m*\u001b[0m\u001b[0margs\u001b[0m\u001b[1;33m,\u001b[0m \u001b[1;33m**\u001b[0m\u001b[0mkwargs\u001b[0m\u001b[1;33m)\u001b[0m\u001b[1;33m:\u001b[0m\u001b[1;33m\u001b[0m\u001b[1;33m\u001b[0m\u001b[0m\n",
      "\u001b[1;32m~\\anaconda3\\lib\\site-packages\\torch\\nn\\modules\\module.py\u001b[0m in \u001b[0;36m_call_impl\u001b[1;34m(self, *args, **kwargs)\u001b[0m\n\u001b[0;32m   1525\u001b[0m                 \u001b[1;32mor\u001b[0m \u001b[0m_global_backward_pre_hooks\u001b[0m \u001b[1;32mor\u001b[0m \u001b[0m_global_backward_hooks\u001b[0m\u001b[1;33m\u001b[0m\u001b[1;33m\u001b[0m\u001b[0m\n\u001b[0;32m   1526\u001b[0m                 or _global_forward_hooks or _global_forward_pre_hooks):\n\u001b[1;32m-> 1527\u001b[1;33m             \u001b[1;32mreturn\u001b[0m \u001b[0mforward_call\u001b[0m\u001b[1;33m(\u001b[0m\u001b[1;33m*\u001b[0m\u001b[0margs\u001b[0m\u001b[1;33m,\u001b[0m \u001b[1;33m**\u001b[0m\u001b[0mkwargs\u001b[0m\u001b[1;33m)\u001b[0m\u001b[1;33m\u001b[0m\u001b[1;33m\u001b[0m\u001b[0m\n\u001b[0m\u001b[0;32m   1528\u001b[0m \u001b[1;33m\u001b[0m\u001b[0m\n\u001b[0;32m   1529\u001b[0m         \u001b[1;32mtry\u001b[0m\u001b[1;33m:\u001b[0m\u001b[1;33m\u001b[0m\u001b[1;33m\u001b[0m\u001b[0m\n",
      "\u001b[1;32m<ipython-input-9-3c653b4106ba>\u001b[0m in \u001b[0;36mforward\u001b[1;34m(self, x)\u001b[0m\n\u001b[0;32m     66\u001b[0m \u001b[1;33m\u001b[0m\u001b[0m\n\u001b[0;32m     67\u001b[0m         \u001b[1;31m# convolutional layers\u001b[0m\u001b[1;33m\u001b[0m\u001b[1;33m\u001b[0m\u001b[1;33m\u001b[0m\u001b[0m\n\u001b[1;32m---> 68\u001b[1;33m         \u001b[0mx\u001b[0m \u001b[1;33m=\u001b[0m \u001b[0mself\u001b[0m\u001b[1;33m.\u001b[0m\u001b[0mmaxPool1\u001b[0m\u001b[1;33m(\u001b[0m\u001b[0mself\u001b[0m\u001b[1;33m.\u001b[0m\u001b[0mact1\u001b[0m\u001b[1;33m(\u001b[0m\u001b[0mself\u001b[0m\u001b[1;33m.\u001b[0m\u001b[0mBatchNorm1\u001b[0m\u001b[1;33m(\u001b[0m\u001b[0mself\u001b[0m\u001b[1;33m.\u001b[0m\u001b[0mconv1\u001b[0m\u001b[1;33m(\u001b[0m\u001b[0mx\u001b[0m\u001b[1;33m)\u001b[0m\u001b[1;33m)\u001b[0m\u001b[1;33m)\u001b[0m\u001b[1;33m)\u001b[0m\u001b[1;33m\u001b[0m\u001b[1;33m\u001b[0m\u001b[0m\n\u001b[0m\u001b[0;32m     69\u001b[0m         \u001b[0mx\u001b[0m \u001b[1;33m=\u001b[0m \u001b[0mself\u001b[0m\u001b[1;33m.\u001b[0m\u001b[0mmaxPool2\u001b[0m\u001b[1;33m(\u001b[0m\u001b[0mself\u001b[0m\u001b[1;33m.\u001b[0m\u001b[0mact2\u001b[0m\u001b[1;33m(\u001b[0m\u001b[0mself\u001b[0m\u001b[1;33m.\u001b[0m\u001b[0mBatchNorm2\u001b[0m\u001b[1;33m(\u001b[0m\u001b[0mself\u001b[0m\u001b[1;33m.\u001b[0m\u001b[0mconv2\u001b[0m\u001b[1;33m(\u001b[0m\u001b[0mx\u001b[0m\u001b[1;33m)\u001b[0m\u001b[1;33m)\u001b[0m\u001b[1;33m)\u001b[0m\u001b[1;33m)\u001b[0m\u001b[1;33m\u001b[0m\u001b[1;33m\u001b[0m\u001b[0m\n\u001b[0;32m     70\u001b[0m         \u001b[0mx\u001b[0m \u001b[1;33m=\u001b[0m \u001b[0mself\u001b[0m\u001b[1;33m.\u001b[0m\u001b[0mact3\u001b[0m\u001b[1;33m(\u001b[0m\u001b[0mself\u001b[0m\u001b[1;33m.\u001b[0m\u001b[0mBatchNorm3\u001b[0m\u001b[1;33m(\u001b[0m\u001b[0mself\u001b[0m\u001b[1;33m.\u001b[0m\u001b[0mconv3\u001b[0m\u001b[1;33m(\u001b[0m\u001b[0mx\u001b[0m\u001b[1;33m)\u001b[0m\u001b[1;33m)\u001b[0m\u001b[1;33m)\u001b[0m\u001b[1;33m\u001b[0m\u001b[1;33m\u001b[0m\u001b[0m\n",
      "\u001b[1;32m~\\anaconda3\\lib\\site-packages\\torch\\nn\\modules\\module.py\u001b[0m in \u001b[0;36m_wrapped_call_impl\u001b[1;34m(self, *args, **kwargs)\u001b[0m\n\u001b[0;32m   1516\u001b[0m             \u001b[1;32mreturn\u001b[0m \u001b[0mself\u001b[0m\u001b[1;33m.\u001b[0m\u001b[0m_compiled_call_impl\u001b[0m\u001b[1;33m(\u001b[0m\u001b[1;33m*\u001b[0m\u001b[0margs\u001b[0m\u001b[1;33m,\u001b[0m \u001b[1;33m**\u001b[0m\u001b[0mkwargs\u001b[0m\u001b[1;33m)\u001b[0m  \u001b[1;31m# type: ignore[misc]\u001b[0m\u001b[1;33m\u001b[0m\u001b[1;33m\u001b[0m\u001b[0m\n\u001b[0;32m   1517\u001b[0m         \u001b[1;32melse\u001b[0m\u001b[1;33m:\u001b[0m\u001b[1;33m\u001b[0m\u001b[1;33m\u001b[0m\u001b[0m\n\u001b[1;32m-> 1518\u001b[1;33m             \u001b[1;32mreturn\u001b[0m \u001b[0mself\u001b[0m\u001b[1;33m.\u001b[0m\u001b[0m_call_impl\u001b[0m\u001b[1;33m(\u001b[0m\u001b[1;33m*\u001b[0m\u001b[0margs\u001b[0m\u001b[1;33m,\u001b[0m \u001b[1;33m**\u001b[0m\u001b[0mkwargs\u001b[0m\u001b[1;33m)\u001b[0m\u001b[1;33m\u001b[0m\u001b[1;33m\u001b[0m\u001b[0m\n\u001b[0m\u001b[0;32m   1519\u001b[0m \u001b[1;33m\u001b[0m\u001b[0m\n\u001b[0;32m   1520\u001b[0m     \u001b[1;32mdef\u001b[0m \u001b[0m_call_impl\u001b[0m\u001b[1;33m(\u001b[0m\u001b[0mself\u001b[0m\u001b[1;33m,\u001b[0m \u001b[1;33m*\u001b[0m\u001b[0margs\u001b[0m\u001b[1;33m,\u001b[0m \u001b[1;33m**\u001b[0m\u001b[0mkwargs\u001b[0m\u001b[1;33m)\u001b[0m\u001b[1;33m:\u001b[0m\u001b[1;33m\u001b[0m\u001b[1;33m\u001b[0m\u001b[0m\n",
      "\u001b[1;32m~\\anaconda3\\lib\\site-packages\\torch\\nn\\modules\\module.py\u001b[0m in \u001b[0;36m_call_impl\u001b[1;34m(self, *args, **kwargs)\u001b[0m\n\u001b[0;32m   1525\u001b[0m                 \u001b[1;32mor\u001b[0m \u001b[0m_global_backward_pre_hooks\u001b[0m \u001b[1;32mor\u001b[0m \u001b[0m_global_backward_hooks\u001b[0m\u001b[1;33m\u001b[0m\u001b[1;33m\u001b[0m\u001b[0m\n\u001b[0;32m   1526\u001b[0m                 or _global_forward_hooks or _global_forward_pre_hooks):\n\u001b[1;32m-> 1527\u001b[1;33m             \u001b[1;32mreturn\u001b[0m \u001b[0mforward_call\u001b[0m\u001b[1;33m(\u001b[0m\u001b[1;33m*\u001b[0m\u001b[0margs\u001b[0m\u001b[1;33m,\u001b[0m \u001b[1;33m**\u001b[0m\u001b[0mkwargs\u001b[0m\u001b[1;33m)\u001b[0m\u001b[1;33m\u001b[0m\u001b[1;33m\u001b[0m\u001b[0m\n\u001b[0m\u001b[0;32m   1528\u001b[0m \u001b[1;33m\u001b[0m\u001b[0m\n\u001b[0;32m   1529\u001b[0m         \u001b[1;32mtry\u001b[0m\u001b[1;33m:\u001b[0m\u001b[1;33m\u001b[0m\u001b[1;33m\u001b[0m\u001b[0m\n",
      "\u001b[1;32m~\\anaconda3\\lib\\site-packages\\torch\\nn\\modules\\conv.py\u001b[0m in \u001b[0;36mforward\u001b[1;34m(self, input)\u001b[0m\n\u001b[0;32m    458\u001b[0m \u001b[1;33m\u001b[0m\u001b[0m\n\u001b[0;32m    459\u001b[0m     \u001b[1;32mdef\u001b[0m \u001b[0mforward\u001b[0m\u001b[1;33m(\u001b[0m\u001b[0mself\u001b[0m\u001b[1;33m,\u001b[0m \u001b[0minput\u001b[0m\u001b[1;33m:\u001b[0m \u001b[0mTensor\u001b[0m\u001b[1;33m)\u001b[0m \u001b[1;33m->\u001b[0m \u001b[0mTensor\u001b[0m\u001b[1;33m:\u001b[0m\u001b[1;33m\u001b[0m\u001b[1;33m\u001b[0m\u001b[0m\n\u001b[1;32m--> 460\u001b[1;33m         \u001b[1;32mreturn\u001b[0m \u001b[0mself\u001b[0m\u001b[1;33m.\u001b[0m\u001b[0m_conv_forward\u001b[0m\u001b[1;33m(\u001b[0m\u001b[0minput\u001b[0m\u001b[1;33m,\u001b[0m \u001b[0mself\u001b[0m\u001b[1;33m.\u001b[0m\u001b[0mweight\u001b[0m\u001b[1;33m,\u001b[0m \u001b[0mself\u001b[0m\u001b[1;33m.\u001b[0m\u001b[0mbias\u001b[0m\u001b[1;33m)\u001b[0m\u001b[1;33m\u001b[0m\u001b[1;33m\u001b[0m\u001b[0m\n\u001b[0m\u001b[0;32m    461\u001b[0m \u001b[1;33m\u001b[0m\u001b[0m\n\u001b[0;32m    462\u001b[0m \u001b[1;32mclass\u001b[0m \u001b[0mConv3d\u001b[0m\u001b[1;33m(\u001b[0m\u001b[0m_ConvNd\u001b[0m\u001b[1;33m)\u001b[0m\u001b[1;33m:\u001b[0m\u001b[1;33m\u001b[0m\u001b[1;33m\u001b[0m\u001b[0m\n",
      "\u001b[1;32m~\\anaconda3\\lib\\site-packages\\torch\\nn\\modules\\conv.py\u001b[0m in \u001b[0;36m_conv_forward\u001b[1;34m(self, input, weight, bias)\u001b[0m\n\u001b[0;32m    454\u001b[0m                             \u001b[0mweight\u001b[0m\u001b[1;33m,\u001b[0m \u001b[0mbias\u001b[0m\u001b[1;33m,\u001b[0m \u001b[0mself\u001b[0m\u001b[1;33m.\u001b[0m\u001b[0mstride\u001b[0m\u001b[1;33m,\u001b[0m\u001b[1;33m\u001b[0m\u001b[1;33m\u001b[0m\u001b[0m\n\u001b[0;32m    455\u001b[0m                             _pair(0), self.dilation, self.groups)\n\u001b[1;32m--> 456\u001b[1;33m         return F.conv2d(input, weight, bias, self.stride,\n\u001b[0m\u001b[0;32m    457\u001b[0m                         self.padding, self.dilation, self.groups)\n\u001b[0;32m    458\u001b[0m \u001b[1;33m\u001b[0m\u001b[0m\n",
      "\u001b[1;31mRuntimeError\u001b[0m: Given groups=1, weight of size [64, 1, 3, 3], expected input[64, 32, 32, 1] to have 1 channels, but got 32 channels instead"
     ]
    }
   ],
   "source": [
    "\"\"\"import time\n",
    "\n",
    "# instantiate the model, loss function, and optimizer\n",
    "model = VGG11()\n",
    "# print(model)\n",
    "loss_fn = nn.CrossEntropyLoss()\n",
    "optimizer = optim.SGD(model.parameters(), lr=0.01, momentum=0.9)\n",
    "\n",
    "n_epochs = 10 \n",
    "batch_size = 64\n",
    "\n",
    "# grabbing training data\n",
    "x = X['train']\n",
    "y = y['train']\n",
    "\n",
    "# gradient descent to train\n",
    "for epoch in range(n_epochs):\n",
    "    start = time.time()\n",
    "    for i in range(0, len(x), batch_size):\n",
    "        x_batch = x[i:i+batch_size]\n",
    "        y_batch = y[i:i+batch_size]\n",
    "        \n",
    "        y_pred = model(x_batch)\n",
    "        loss = loss_fn(y_pred, y_batch)\n",
    "        \n",
    "        optimizer.zero_grad()\n",
    "        loss.backward()\n",
    "        optimizer.step()\n",
    "\n",
    "    end = time.time()\n",
    "    print(f'Epoch [{epoch + 1}/{n_epochs}], Loss: {loss.item():.4f}, TIme elapsed: {(end - start):.4f}s')\n",
    "\n",
    "# compute accuracy\n",
    "y_pred = model(x)\n",
    "_, predicted = torch.max(y_pred, dim=1)\n",
    "accuracy = (predicted == y).float().mean()\n",
    "print(f'Accuracy = {accuracy:.4f}')\"\"\""
   ]
  },
  {
   "cell_type": "code",
   "execution_count": 5,
   "id": "cc214633",
   "metadata": {},
   "outputs": [
    {
     "ename": "NameError",
     "evalue": "name 'train_loader' is not defined",
     "output_type": "error",
     "traceback": [
      "\u001b[1;31m---------------------------------------------------------------------------\u001b[0m",
      "\u001b[1;31mNameError\u001b[0m                                 Traceback (most recent call last)",
      "\u001b[1;32m<ipython-input-5-53ceda40e338>\u001b[0m in \u001b[0;36m<module>\u001b[1;34m\u001b[0m\n\u001b[0;32m     65\u001b[0m \u001b[1;32mfor\u001b[0m \u001b[0mepoch\u001b[0m \u001b[1;32min\u001b[0m \u001b[0mrange\u001b[0m\u001b[1;33m(\u001b[0m\u001b[0mnum_epochs\u001b[0m\u001b[1;33m)\u001b[0m\u001b[1;33m:\u001b[0m\u001b[1;33m\u001b[0m\u001b[1;33m\u001b[0m\u001b[0m\n\u001b[0;32m     66\u001b[0m     \u001b[0mmodel\u001b[0m\u001b[1;33m.\u001b[0m\u001b[0mtrain\u001b[0m\u001b[1;33m(\u001b[0m\u001b[1;33m)\u001b[0m\u001b[1;33m\u001b[0m\u001b[1;33m\u001b[0m\u001b[0m\n\u001b[1;32m---> 67\u001b[1;33m     \u001b[1;32mfor\u001b[0m \u001b[0mimages\u001b[0m\u001b[1;33m,\u001b[0m \u001b[0mlabels\u001b[0m \u001b[1;32min\u001b[0m \u001b[0mtrain_loader\u001b[0m\u001b[1;33m:\u001b[0m\u001b[1;33m\u001b[0m\u001b[1;33m\u001b[0m\u001b[0m\n\u001b[0m\u001b[0;32m     68\u001b[0m         \u001b[0moptimizer\u001b[0m\u001b[1;33m.\u001b[0m\u001b[0mzero_grad\u001b[0m\u001b[1;33m(\u001b[0m\u001b[1;33m)\u001b[0m\u001b[1;33m\u001b[0m\u001b[1;33m\u001b[0m\u001b[0m\n\u001b[0;32m     69\u001b[0m         \u001b[0moutputs\u001b[0m \u001b[1;33m=\u001b[0m \u001b[0mmodel\u001b[0m\u001b[1;33m(\u001b[0m\u001b[0mimages\u001b[0m\u001b[1;33m)\u001b[0m\u001b[1;33m\u001b[0m\u001b[1;33m\u001b[0m\u001b[0m\n",
      "\u001b[1;31mNameError\u001b[0m: name 'train_loader' is not defined"
     ]
    }
   ],
   "source": [
    "\"\"\"# VGG11 model\n",
    "class VGG11(nn.Module):\n",
    "    def __init__(self):\n",
    "        super(VGG11, self).__init__()\n",
    "        # Convolutional layers\n",
    "        self.features = nn.Sequential(\n",
    "            nn.Conv2d(1, 64, kernel_size=3, stride=1, padding=1),\n",
    "            nn.BatchNorm2d(64),\n",
    "            nn.ReLU(),\n",
    "            nn.MaxPool2d(kernel_size=2, stride=2),\n",
    "            \n",
    "            nn.Conv2d(64, 128, kernel_size=3, stride=1, padding=1),\n",
    "            nn.BatchNorm2d(128),\n",
    "            nn.ReLU(),\n",
    "            nn.MaxPool2d(kernel_size=2, stride=2),\n",
    "            \n",
    "            nn.Conv2d(128, 256, kernel_size=3, stride=1, padding=1),\n",
    "            nn.BatchNorm2d(256),\n",
    "            nn.ReLU(),\n",
    "            \n",
    "            nn.Conv2d(256, 256, kernel_size=3, stride=1, padding=1),\n",
    "            nn.BatchNorm2d(256),\n",
    "            nn.ReLU(),\n",
    "            nn.MaxPool2d(kernel_size=2, stride=2),\n",
    "            \n",
    "            nn.Conv2d(256, 512, kernel_size=3, stride=1, padding=1),\n",
    "            nn.BatchNorm2d(512),\n",
    "            nn.ReLU(),\n",
    "            \n",
    "            nn.Conv2d(512, 512, kernel_size=3, stride=1, padding=1),\n",
    "            nn.BatchNorm2d(512),\n",
    "            nn.ReLU(),\n",
    "            nn.MaxPool2d(kernel_size=2, stride=2),\n",
    "            \n",
    "            nn.Conv2d(512, 512, kernel_size=3, stride=1, padding=1),\n",
    "            nn.BatchNorm2d(512),\n",
    "            nn.ReLU(),\n",
    "            nn.MaxPool2d(kernel_size=2, stride=2)\n",
    "        )\n",
    "        # Fully connected layers\n",
    "        self.classifier = nn.Sequential(\n",
    "            nn.Linear(512, 4096),\n",
    "            nn.ReLU(),\n",
    "            nn.Dropout(0.5),\n",
    "            nn.Linear(4096, 4096),\n",
    "            nn.ReLU(),\n",
    "            nn.Dropout(0.5),\n",
    "            nn.Linear(4096, 10)\n",
    "        )\n",
    "\n",
    "    def forward(self, x):\n",
    "        x = self.features(x)\n",
    "        x = x.view(x.size(0), -1)\n",
    "        x = self.classifier(x)\n",
    "        return x\n",
    "\n",
    "# Instantiate the model, loss function, and optimizer\n",
    "model = VGG11()\n",
    "criterion = nn.CrossEntropyLoss()\n",
    "optimizer = optim.SGD(model.parameters(), lr=0.01, momentum=0.9)\n",
    "\n",
    "# Training the model\n",
    "num_epochs = 10  # You can increase this if needed\n",
    "\n",
    "for epoch in range(num_epochs):\n",
    "    model.train()\n",
    "    for images, labels in train_loader:\n",
    "        optimizer.zero_grad()\n",
    "        outputs = model(images)\n",
    "        loss = criterion(outputs, labels)\n",
    "        loss.backward()\n",
    "        optimizer.step()\n",
    "\n",
    "    print(f'Epoch [{epoch + 1}/{num_epochs}], Loss: {loss.item():.4f}')\n",
    "\n",
    "# Evaluate the model on the test set\n",
    "model.eval()\n",
    "with torch.no_grad():\n",
    "    correct = 0\n",
    "    total = 0\n",
    "    for images, labels in test_loader:\n",
    "        outputs = model(images)\n",
    "        _, predicted = torch.max(outputs.data, 1)\n",
    "        total += labels.size(0)\n",
    "        correct += (predicted == labels).sum().item()\n",
    "\n",
    "    print(f'Accuracy on the test set: {100 * correct / total}%')\"\"\""
   ]
  },
  {
   "cell_type": "markdown",
   "id": "99fec73a",
   "metadata": {},
   "source": [
    "### Exercise 3: MLP Implementation"
   ]
  },
  {
   "cell_type": "code",
   "execution_count": 11,
   "id": "47574406",
   "metadata": {},
   "outputs": [],
   "source": [
    "import torch\n",
    "import torch.nn as nn\n",
    "import torch.optim as optim\n",
    "import torchvision\n",
    "import torchvision.transforms as transforms\n",
    "from torchvision.datasets import MNIST\n",
    "from sklearn.preprocessing import StandardScaler"
   ]
  },
  {
   "cell_type": "code",
   "execution_count": 82,
   "id": "5808da8f",
   "metadata": {},
   "outputs": [],
   "source": [
    "root = 'data'\n",
    "classes = (0, 1, 3, 4, 5, 6, 7, 8, 9)\n",
    "\n",
    "# load data\n",
    "dataset = {'train': MNIST(root=root, train=True, download=True), \n",
    "            'test': MNIST(root=root, train=False, download=True)}\n",
    "\n",
    "# create dicts for storing sampled data\n",
    "labels = ['train', 'test']\n",
    "X = {'train': [], 'test': []}\n",
    "y = {'train': [], 'test': []}\n",
    "\n",
    "# for the training and test datasets\n",
    "for label in labels:\n",
    "    # sample 600 points for each class\n",
    "    for c in classes:\n",
    "        subset_idx = torch.isin(dataset[label].targets, torch.as_tensor(c))\n",
    "        X[label].append(dataset[label].data[subset_idx][:600].view(-1, 28*28).float()) # .float() converts to np array\n",
    "        y[label].append(dataset[label].targets[subset_idx][:600].long())\n",
    "    \n",
    "    # concatenate along the first dimension\n",
    "    X[label] = torch.cat(X[label], dim=0)\n",
    "    y[label] = torch.cat(y[label], dim=0)    \n",
    "    \n",
    "# scale data\n",
    "scaler = StandardScaler().fit(X['train'])\n",
    "X['train'] = scaler.transform(X['train'])\n",
    "X['test'] = scaler.transform(X['test'])\n",
    "\n",
    "# convert to PyTorch tensors\n",
    "X['train'] = torch.from_numpy(X['train']).float()\n",
    "X['test'] = torch.from_numpy(X['test']).float()"
   ]
  },
  {
   "cell_type": "code",
   "execution_count": 64,
   "id": "8da2cf86",
   "metadata": {},
   "outputs": [
    {
     "name": "stdout",
     "output_type": "stream",
     "text": [
      "torch.Size([5400, 784])\n",
      "torch.Size([5400, 784])\n",
      "torch.Size([5400])\n",
      "torch.Size([5400])\n"
     ]
    }
   ],
   "source": [
    "print(X['train'].shape)\n",
    "print(X['test'].shape)\n",
    "print(y['train'].shape)\n",
    "print(y['test'].shape)"
   ]
  },
  {
   "cell_type": "code",
   "execution_count": 83,
   "id": "564c09c0",
   "metadata": {},
   "outputs": [
    {
     "name": "stdout",
     "output_type": "stream",
     "text": [
      "Epoch [1/40], Loss: 2.4861\n",
      "Epoch [2/40], Loss: 2.3222\n",
      "Epoch [3/40], Loss: 2.2690\n",
      "Epoch [4/40], Loss: 2.2161\n",
      "Epoch [5/40], Loss: 2.1584\n",
      "Epoch [6/40], Loss: 2.1001\n",
      "Epoch [7/40], Loss: 2.0285\n",
      "Epoch [8/40], Loss: 1.9514\n",
      "Epoch [9/40], Loss: 1.8466\n",
      "Epoch [10/40], Loss: 1.7466\n",
      "Epoch [11/40], Loss: 1.6181\n",
      "Epoch [12/40], Loss: 1.4965\n",
      "Epoch [13/40], Loss: 1.3470\n",
      "Epoch [14/40], Loss: 1.2164\n",
      "Epoch [15/40], Loss: 1.0740\n",
      "Epoch [16/40], Loss: 0.9641\n",
      "Epoch [17/40], Loss: 0.8402\n",
      "Epoch [18/40], Loss: 0.7303\n",
      "Epoch [19/40], Loss: 0.6465\n",
      "Epoch [20/40], Loss: 0.5545\n",
      "Epoch [21/40], Loss: 0.4977\n",
      "Epoch [22/40], Loss: 0.4572\n",
      "Epoch [23/40], Loss: 0.4214\n",
      "Epoch [24/40], Loss: 0.3671\n",
      "Epoch [25/40], Loss: 0.3511\n",
      "Epoch [26/40], Loss: 0.3194\n",
      "Epoch [27/40], Loss: 0.3227\n",
      "Epoch [28/40], Loss: 0.2737\n",
      "Epoch [29/40], Loss: 0.2694\n",
      "Epoch [30/40], Loss: 0.2377\n",
      "Epoch [31/40], Loss: 0.2188\n",
      "Epoch [32/40], Loss: 0.1787\n",
      "Epoch [33/40], Loss: 0.1828\n",
      "Epoch [34/40], Loss: 0.1577\n",
      "Epoch [35/40], Loss: 0.1386\n",
      "Epoch [36/40], Loss: 0.1238\n",
      "Epoch [37/40], Loss: 0.1186\n",
      "Epoch [38/40], Loss: 0.1055\n",
      "Epoch [39/40], Loss: 0.1091\n",
      "Epoch [40/40], Loss: 0.1119\n",
      "Accuracy = 0.7952\n"
     ]
    }
   ],
   "source": [
    "# MLP model\n",
    "class MLP(nn.Module):\n",
    "    def __init__(self):\n",
    "        super().__init__()\n",
    "        # 1. Linear(784, 512) - ReLU\n",
    "        self.hidden1 = nn.Linear(784, 512)\n",
    "        self.act1 = nn.ReLU()\n",
    "        \n",
    "        # 2. Linear(512, 512) - BatchNorm(512) - ReLU\n",
    "        self.hidden2 = nn.Linear(512, 512)\n",
    "        self.batchNorm2 = nn.BatchNorm1d(512)\n",
    "        self.act2 = nn.ReLU()\n",
    "        \n",
    "        # 3. Linear(512, 10)\n",
    "        self.output = nn.Linear(512, 10)\n",
    "        \n",
    "    def forward(self, x):\n",
    "        x = self.act1(self.hidden1(x))\n",
    "        x = self.act2(self.batchNorm2(self.hidden2(x)))\n",
    "        x = self.output(x)\n",
    "        return x\n",
    "\n",
    "# instantiate the model, loss function, and optimizer\n",
    "model = MLP()\n",
    "# print(model)\n",
    "loss_fn = nn.CrossEntropyLoss()\n",
    "optimizer = optim.SGD(model.parameters(), lr=0.001, momentum=0.9)\n",
    "\n",
    "n_epochs = 40 \n",
    "batch_size = 64\n",
    "\n",
    "# grabbing training data\n",
    "x = X['train']\n",
    "y = y['train']\n",
    "\n",
    "# gradient descent to train\n",
    "for epoch in range(n_epochs):\n",
    "    for i in range(0, len(x), batch_size):\n",
    "        x_batch = x[i:i+batch_size]\n",
    "        y_batch = y[i:i+batch_size]\n",
    "        \n",
    "        y_pred = model(x_batch)\n",
    "        loss = loss_fn(y_pred, y_batch)\n",
    "        \n",
    "        optimizer.zero_grad()\n",
    "        loss.backward()\n",
    "        optimizer.step()\n",
    "\n",
    "    print(f'Epoch [{epoch + 1}/{n_epochs}], Loss: {loss.item():.4f}')\n",
    "\n",
    "# compute accuracy\n",
    "y_pred = model(x)\n",
    "_, predicted = torch.max(y_pred, dim=1)\n",
    "accuracy = (predicted == y).float().mean()\n",
    "print(f'Accuracy = {accuracy:.4f}')"
   ]
  },
  {
   "cell_type": "code",
   "execution_count": 55,
   "id": "dda1176a",
   "metadata": {},
   "outputs": [
    {
     "name": "stdout",
     "output_type": "stream",
     "text": [
      "torch.Size([5400, 10])\n",
      "torch.Size([5400])\n"
     ]
    }
   ],
   "source": [
    "print(y_round.shape)\n",
    "print(y.shape)"
   ]
  },
  {
   "cell_type": "code",
   "execution_count": null,
   "id": "19042c5a",
   "metadata": {},
   "outputs": [],
   "source": []
  }
 ],
 "metadata": {
  "kernelspec": {
   "display_name": "Python 3",
   "language": "python",
   "name": "python3"
  },
  "language_info": {
   "codemirror_mode": {
    "name": "ipython",
    "version": 3
   },
   "file_extension": ".py",
   "mimetype": "text/x-python",
   "name": "python",
   "nbconvert_exporter": "python",
   "pygments_lexer": "ipython3",
   "version": "3.8.8"
  }
 },
 "nbformat": 4,
 "nbformat_minor": 5
}
